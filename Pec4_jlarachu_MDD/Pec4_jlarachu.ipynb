{
 "cells": [
  {
   "cell_type": "markdown",
   "metadata": {
    "id": "2sYt4kHLrfd5"
   },
   "source": [
    "<div style=\"width: 100%; clear: both;\">\n",
    "<div style=\"float: left; width: 50%;\">\n",
    "<img src=\"http://www.uoc.edu/portal/_resources/common/imatges/marca_UOC/UOC_Masterbrand.jpg\", align=\"left\">\n",
    "</div>\n",
    "<div style=\"float: right; width: 50%;\">\n",
    "<p style=\"margin: 0; padding-top: 22px; text-align:right;\">M2.855 · Modelos avanzados de minería de datos</p>\n",
    "<p style=\"margin: 0; text-align:right;\">2023-1 · Máster universitario en Ciencia de datos (Data science)</p>\n",
    "<p style=\"margin: 0; text-align:right; padding-button: 100px;\">Estudios de Informática, Multimedia y Telecomunicación</p>\n",
    "</div>\n",
    "</div>\n",
    "<div style=\"width:100%;\">&nbsp;</div>"
   ]
  },
  {
   "cell_type": "markdown",
   "metadata": {
    "id": "RQIb_aCZrfd7"
   },
   "source": [
    "<div class=\"alert alert-block alert-info\">\n",
    "<strong>Nombre y apellidos: Juan Lara Chups </strong>\n",
    "</div>"
   ]
  },
  {
   "cell_type": "markdown",
   "metadata": {
    "id": "Q_MBz-Warfd7"
   },
   "source": []
  },
  {
   "cell_type": "markdown",
   "metadata": {
    "id": "_xUIaUf6rfd7"
   },
   "source": [
    "# PEC 4: Combinación de modelos de regresión\n",
    "\n",
    "Está actividad está dividida en cuatro partes:\n",
    "\n",
    "- **[Carga y ajuste de la base de datos MI - 0.5 ptos](#ej1)**: Cargar los datos. Realizar los procedimientos estadísticos necesarios que considere necesarios para entener la base de datos.\n",
    "- **[Combinación paralela de clasificadores - 3 ptos](#ej2)**: Estudio de diferentes métodos de combinación de clasificadores en paralelo: árboles de decisión, Bagging, and Boosting.\n",
    "- **[Combinación secuencial de clasificadores - 3 ptos ](#ej3)**: Estudio de diferentes métodos de combinación de clasificadores en secuencia: KNN, SVM, Stacking, y Cascading.\n",
    "- **[Conclusión de los métodos de clasificación aplicados a los problema - 1 pto ](#ej5)**: Analizar cuál de las herramientas de clasificación utilizadas es la mejor para el problema del planteado.\n",
    "- **[Redes nueronales secuencial  y paralela - 2.5 ptos](#ej4)**: Construcción de dos redes nueronales con diferentes topologías serie y paralelo (2 ptos) y representación de los resultados en la matriz de confusión para cada topología - 0.5 ptos. Para ello se utilizará la base de datos iris. El objetivo será categorizar las flores según sus medidas físicas.\n",
    "\n"
   ]
  },
  {
   "cell_type": "markdown",
   "metadata": {
    "id": "wzwSrcp5rfd8"
   },
   "source": [
    "<u>Consideraciones generales</u>:\n",
    "\n",
    "- IMPORTANTE: **Para este PEC se sugiere la utilización del entorno COLAB** para facilitar la cargada de las librerías y el procesamiento del numeral 2.\n",
    "- La solución planteada no puede utilizar métodos, funciones o parámetros declarados **_deprecated_** en futuras versiones, a excepción de que se indique explícitamente.\n",
    "- Esta PEC debe realizarse de forma **estrictamente individual**. Cualquier indicio de copia será penalizado con un suspenso (D) para todas las partes implicadas y la posible evaluación negativa de la asignatura de forma íntegra.\n",
    "- Es necesario que el estudiante indique **todas las fuentes** que ha utilizado para la realización de la PEC. De no ser así, se considerará que el estudiante ha cometido plagio, siendo penalizado con un suspenso (D) y la posible evaluación negativa de la asignatura de forma íntegra.\n",
    "- En esta PEC se deben usar **únicamente las librerías que se importan a continuación**. Si se desea usar otra librería hay que consultarlo con el tutor/tutora del aula.\n",
    "\n",
    "<u>Formato de la entrega</u>:\n",
    "\n",
    "- Algunos ejercicios pueden suponer varios minutos de ejecución, por lo que la entrega debe hacerse en **formato notebook** y en **formato html**, donde se vea el código, los resultados y comentarios de cada ejercicio. Se puede exportar el notebook a HTML desde el menú File $\\to$ Download as $\\to$ HTML. **POR FAVOR NO SUBIR UN SOLO ARCHIVO COMPRIMIDO**.\n",
    "- El nombre de los archivos debe tener su **NOMBRE_APELLIDO**.\n",
    "- Existe un tipo de celda especial para albergar texto. Este tipo de celda os será muy útil para responder a las diferentes preguntas teóricas planteadas a lo largo de la actividad. Para cambiar el tipo de celda a este tipo, en el menú: Cell $\\to$ Cell Type $\\to$ Markdown.\n",
    "\n",
    "<u>Infarto de Miocardio (IM)</u>:\n",
    "\n",
    "El Infarto de Miocardio (IM) es uno de los problemas más desafiantes de la medicina moderna. El infarto agudo de miocardio se asocia con una alta mortalidad en el primer año posterior al mismo. La incidencia de IM sigue siendo alta en todos los países. Esto es especialmente cierto para la población urbana de países altamente desarrollados, que está expuesta a factores de estrés crónico, nutrición irregular y no siempre equilibrada. El curso de la enfermedad en pacientes con infarto de miocardio es diferente. El IM puede ocurrir sin complicaciones o con complicaciones que no empeoran el pronóstico a largo plazo. Al mismo tiempo, aproximadamente la mitad de los pacientes en los períodos agudo y subagudo tienen complicaciones que conducen al empeoramiento de la enfermedad e incluso a la muerte. Incluso un especialista experimentado no siempre puede prever el desarrollo de estas complicaciones. En este sentido, la predicción de las complicaciones del infarto de miocardio para llevar a cabo oportunamente las medidas preventivas necesarias es una tarea importante."
   ]
  },
  {
   "cell_type": "markdown",
   "metadata": {
    "id": "t2n1M1BDrfd8"
   },
   "source": [
    "Iniciamos la PEC con la carga de las siguientes librerías:"
   ]
  },
  {
   "cell_type": "code",
   "execution_count": 1,
   "metadata": {
    "executionInfo": {
     "elapsed": 3065,
     "status": "ok",
     "timestamp": 1705116117431,
     "user": {
      "displayName": "Juan Lara Chups",
      "userId": "04383778811652746669"
     },
     "user_tz": -60
    },
    "id": "jn0LD4gprfd8"
   },
   "outputs": [],
   "source": [
    "from matplotlib import pyplot as plt\n",
    "import pandas as pd\n",
    "import numpy as np\n",
    "import scipy.stats\n",
    "from sklearn.linear_model import LinearRegression\n",
    "from sklearn.neighbors import KNeighborsClassifier\n",
    "from sklearn.tree import DecisionTreeClassifier\n",
    "from sklearn.model_selection import train_test_split\n",
    "from sklearn.model_selection import cross_val_score\n",
    "from sklearn.metrics import accuracy_score\n",
    "from sklearn import ensemble\n",
    "from sklearn import svm\n",
    "\n",
    "%matplotlib inline"
   ]
  },
  {
   "cell_type": "markdown",
   "metadata": {
    "id": "CjDD5QPl1f62"
   },
   "source": [
    "Las siguientes tres celdas se cargarán de forma automática si usted está trabajando con COLAB. Los puntos suspensivos serán reemplazados por sus carpetas personales."
   ]
  },
  {
   "cell_type": "code",
   "execution_count": null,
   "metadata": {
    "id": "qrp0S_3KxsMb"
   },
   "outputs": [],
   "source": [
    "from google.colab import drive\n",
    "drive.mount('/content/drive')"
   ]
  },
  {
   "cell_type": "code",
   "execution_count": null,
   "metadata": {
    "id": "P76Pp4zR4ZJH"
   },
   "outputs": [],
   "source": [
    "import os\n",
    "os.listdir('/content/drive/My Drive/...')\n"
   ]
  },
  {
   "cell_type": "code",
   "execution_count": null,
   "metadata": {
    "id": "AhRKPCXrXhDi"
   },
   "outputs": [],
   "source": [
    "import os\n",
    "os.chdir('/content/drive/My Drive/...')\n"
   ]
  },
  {
   "cell_type": "markdown",
   "metadata": {
    "id": "CrLiFuBgrfd9"
   },
   "source": [
    "<a id=\"ej2\"></a>\n",
    "\n",
    "# 1. Combinación de clasificadores (7.5 puntos)"
   ]
  },
  {
   "cell_type": "markdown",
   "metadata": {
    "id": "tQGLwDyLrfd9"
   },
   "source": [
    "El ensemble learning es una estrategia en la que se utiliza un grupo de modelos para resolver un problema mediante la combinación estratégica de diversos modelos de aprendizaje automático en un sólo modelo predictivo.\n",
    "\n",
    "En general, los métodos de ensemble se utilizan principalmente para mejorar la precisión del rendimiento general de un modelo y combinar varios modelos diferentes, también conocidos como aprendices básicos, para predecir los resultados, en lugar de utilizar un sólo modelo.\n",
    "\n",
    "¿Por qué entrenamos tantos clasificadores diferentes en lugar de uno solo? Bueno, el uso de varios modelos para predecir el resultado final en realidad reduce la probabilidad de sopesar las decisiones tomadas por modelos deficientes (sobreentrenados, no debidamente ajustados...).\n",
    "\n",
    "Cuanto más diversos sean estos aprendices básicos, más poderoso será el modelo final.\n",
    "\n",
    "Tengamos en cuenta que en cualquier modelo de aprendizaje automático, el error de generalización viene dado por la suma de cuadrados de bias + varianza + error irreductible.\n",
    "\n",
    "¡Los errores irreductibles son algo que está más allá de nosotros! No podemos reducirlos.\n",
    "\n",
    "Sin embargo, utilizando ensembles, podemos reducir el sesgo (bias) y la varianza de un modelo. Esto reduce el error de generalización general.\n",
    "\n",
    "La <strong>compensación de sesgo-varianza</strong> es el punto de referencia más importante que diferencia un modelo robusto de uno inferior (entendamos por inferior un modelo no demasiado generalizable).\n",
    "\n",
    "Aunque no es una regla exacta, en el aprendizaje automático, los modelos que tienen un sesgo alto tienden a tener una varianza más baja y viceversa.\n",
    "\n",
    "Hemos estado hablando de bias y varianza. Pero veamos que entendemos por sesgo de un modelo y por varianza de un modelo.\n",
    "\n",
    "1. <strong>Sesgo</strong>: El sesgo es un error que surge debido a suposiciones falsas realizadas en la fase de aprendizaje de un modelo. Un sesgo alto puede hacer que un algoritmo de aprendizaje omita información importante y correlaciones entre las variables independientes y las etiquetas de clase, por lo que no se ajusta al modelo.\n",
    "\n",
    "2. <strong>Varianza</strong>: la varianza nos dice qué tan sensible es un modelo a los pequeños cambios en los datos de entrenamiento. Es decir, cuánto cambia el modelo. Una gran variación en un modelo lo hará propenso al ruido aleatorio presente en el conjunto de datos, por lo que se ajustará demasiado al modelo.\n",
    "\n",
    "Para comprender con más detalle la compensación de sesgo y varianza en los modelos de aprendizaje automático, podeís consultar este [artículo](https://towardsdatascience.com/understanding-the-bias-variance-tradeoff-165e6942b229).\n",
    "\n",
    "Una vez llegados a este punto, podemos dividir los ensembles en cuatro categorías:\n",
    "\n",
    "1. <strong>Bagging</strong>: El bagging se utiliza principalmente para reducir la variación en un modelo. Un ejemplo simple de bagging es el algoritmo Random Forest.\n",
    "\n",
    "2. <strong>Boosting</strong>: El boosting se utiliza principalmente para reducir el sesgo en un modelo. Ejemplos de algoritmos de impulso son Ada-Boost, XGBoost, árboles de decisión mejorados por gradiente, etc.\n",
    "\n",
    "3. <strong>Stacking</strong>: el stacking se utiliza principalmente para aumentar la precisión de predicción de un modelo.\n",
    "\n",
    "4. <strong>Cascading</strong>: esta clase de modelos son muy precisos. La conexión en cascada se usa principalmente en escenarios en los que no puede permitirse cometer un error. Por ejemplo, una técnica en cascada se usa principalmente para detectar transacciones fraudulentas con tarjetas de crédito.\n",
    "\n",
    "\n",
    "\n",
    "\n",
    "\n",
    "\n",
    "\n",
    "\n",
    "El ensemble learning es una estrategia sofisticada que implica la utilización de múltiples modelos para abordar un problema mediante la combinación estratégica de diversos modelos de aprendizaje automático en un modelo predictivo consolidado.\n",
    "\n",
    "En general, los métodos de conjunto se utilizan principalmente para mejorar la precisión del rendimiento general de un modelo mediante la combinación de diversos modelos, conocidos como aprendices básicos, para predecir resultados, en lugar de utilizar solo un modelo.\n",
    "\n",
    "La diversidad entre los aprendices básicos es crucial para el éxito de esta estrategia, ya que contribuye a reducir la probabilidad de ponderar decisiones tomadas por modelos deficientes, como aquellos que pueden estar sobreentrenados o inadecuados.\n",
    "\n",
    "En cualquier modelo de aprendizaje automático, el error de generalización se compone de sesgo, varianza y un error irreductible. Los errores irreductibles son inherentemente incontrolables, pero los métodos de conjunto, mediante la compensación de sesgo y varianza, tienen como objetivo reducir tanto el sesgo como la varianza para mejorar el rendimiento global del modelo.\n",
    "\n",
    "La compensación de sesgo-varianza es un concepto clave que distingue un modelo robusto de uno inferior en el aprendizaje automático. En general, los modelos con alto sesgo tienden a tener una varianza baja y viceversa, aunque esta regla no es absoluta.\n",
    "\n",
    "Las categorías principales de conjuntos son las siguientes:\n",
    "\n",
    "Bagging: Utilizado para reducir la varianza en un modelo. Un ejemplo destacado es el algoritmo Random Forest.\n",
    "\n",
    "Boosting: Empleado para reducir el sesgo en un modelo. Ejemplos incluyen AdaBoost, XGBoost y árboles de decisión mejorados por gradiente.\n",
    "\n",
    "Stacking: Dirigido a aumentar la precisión de la predicción de un modelo mediante la combinación de múltiples modelos.\n",
    "\n",
    "Cascading: Utilizado en escenarios donde la precisión es crítica. Esta categoría es especialmente eficaz en la detección de transacciones fraudulentas con tarjetas de crédito, ya que se centra en reducir los errores al máximo.\n",
    "\n",
    "Para una comprensión más profunda de la compensación de sesgo y varianza en los modelos de aprendizaje automático, puedes consultar este artículo."
   ]
  },
  {
   "cell_type": "markdown",
   "metadata": {
    "id": "LbfpsOerrfd9"
   },
   "source": [
    "## 1.1 Datos (0.5 ptos)"
   ]
  },
  {
   "cell_type": "markdown",
   "metadata": {
    "id": "Vw5T6xnTrfd9"
   },
   "source": [
    "La base de datos original consta de 1700 pacientes con 124 variables registradas. Existen valores faltantes y outlayers. En esta base de datos original, las columnas 2-112 son los descriptores o variables para predecir posibles complicaciones o respuestas que están en las columnas 113-124. La descripción detallada y los datos están disponibles en el siguiente [enlace](https://archive.ics.uci.edu/ml/datasets/Myocardial+infarction+complications#).\n",
    "\n",
    "Es una base de datos lista para trabajar. Debeís cargar una base de datos llamada MI_database_final.csv. Los valores faltantes ya están imputados y los outlayers han sido eliminados e imputados. Igualmente las variables han sido reducidas a las más relevantes teniendo en cuenta el outcome que será ZSN_A. Es una variable categórica Significa la presencia de Insuficiencia Cardíaca (IC) crónica en la anamnesis.\n",
    "\n",
    "Para iniciar cualquier análisis, lo primero que debe hacer es el análisis univariable, diagramas de distribución utilizando histogramas o diagramas de barras de acuerdo a la naturaleza de la variable. Para identificar los valores extremos, realice diagramas de caja o box plot. En caso que existan, estos deben ser eliminados y se considerarán como faltantes. En caso de necesidad de ajustar un nuevo valor calculelo utilizando la regresión lineal. Después, se hará una exploración de las variables más relevantes de acuerdo al output seleccionado, se identificarán estas variables y serán incluídas en los modelos de clasificación. Se estudiarán diferentes modelos y al final deberá decidir cuál de los modelos\n",
    "\n",
    "En la primera parte de este ejercicio veremos la combinación de clasificadores en paralelo mediante las tecnicas de <strong>Bagging</strong> y <strong>Boosting</strong>.\n",
    "\n",
    "En la segunda parte intentaremos mejorar los resultados aplicando tecnicas de combinación secuencial de clasificadores: <strong>Stacking</strong> y <strong>Cascading</strong>.\n",
    "\n",
    "Para empezar, cargue el dataset."
   ]
  },
  {
   "cell_type": "code",
   "execution_count": 5,
   "metadata": {
    "executionInfo": {
     "elapsed": 327,
     "status": "ok",
     "timestamp": 1705116239617,
     "user": {
      "displayName": "Juan Lara Chups",
      "userId": "04383778811652746669"
     },
     "user_tz": -60
    },
    "id": "9ox0oxuurfd-"
   },
   "outputs": [],
   "source": [
    "df = pd.read_csv(\"MI_database_final-1.csv\")"
   ]
  },
  {
   "cell_type": "markdown",
   "metadata": {
    "id": "W-JbJ8rS1f67"
   },
   "source": [
    "Visualize las primeras filas"
   ]
  },
  {
   "cell_type": "code",
   "execution_count": 6,
   "metadata": {
    "colab": {
     "base_uri": "https://localhost:8080/",
     "height": 256
    },
    "executionInfo": {
     "elapsed": 477,
     "status": "ok",
     "timestamp": 1705116258832,
     "user": {
      "displayName": "Juan Lara Chups",
      "userId": "04383778811652746669"
     },
     "user_tz": -60
    },
    "id": "RYD-ysEOrfd-",
    "outputId": "f8bef5af-18eb-4882-f19f-b970ebef568c"
   },
   "outputs": [
    {
     "data": {
      "text/html": [
       "\n",
       "  <div id=\"df-95214447-3c55-4101-b1ae-2f610feedfd1\" class=\"colab-df-container\">\n",
       "    <div>\n",
       "<style scoped>\n",
       "    .dataframe tbody tr th:only-of-type {\n",
       "        vertical-align: middle;\n",
       "    }\n",
       "\n",
       "    .dataframe tbody tr th {\n",
       "        vertical-align: top;\n",
       "    }\n",
       "\n",
       "    .dataframe thead th {\n",
       "        text-align: right;\n",
       "    }\n",
       "</style>\n",
       "<table border=\"1\" class=\"dataframe\">\n",
       "  <thead>\n",
       "    <tr style=\"text-align: right;\">\n",
       "      <th></th>\n",
       "      <th>ID</th>\n",
       "      <th>L_BLOOD</th>\n",
       "      <th>AGE</th>\n",
       "      <th>ALT_BLOOD</th>\n",
       "      <th>K_BLOOD</th>\n",
       "      <th>ROE</th>\n",
       "      <th>S_AD_ORIT</th>\n",
       "      <th>AST_BLOOD</th>\n",
       "      <th>Na_BLOOD</th>\n",
       "      <th>TIME_B_S</th>\n",
       "      <th>...</th>\n",
       "      <th>GIPER_Na</th>\n",
       "      <th>ritm_ecg_p_04</th>\n",
       "      <th>fibr_ter_03</th>\n",
       "      <th>GT_POST</th>\n",
       "      <th>fibr_ter_06</th>\n",
       "      <th>np09</th>\n",
       "      <th>zab_leg_04</th>\n",
       "      <th>n_r_ecg_p_02</th>\n",
       "      <th>n_p_ecg_p_05</th>\n",
       "      <th>ZSN_A</th>\n",
       "    </tr>\n",
       "  </thead>\n",
       "  <tbody>\n",
       "    <tr>\n",
       "      <th>0</th>\n",
       "      <td>1</td>\n",
       "      <td>8.0</td>\n",
       "      <td>77.0</td>\n",
       "      <td>0.38</td>\n",
       "      <td>4.7</td>\n",
       "      <td>16.0</td>\n",
       "      <td>180.0</td>\n",
       "      <td>0.22</td>\n",
       "      <td>138.0</td>\n",
       "      <td>4.0</td>\n",
       "      <td>...</td>\n",
       "      <td>0.0</td>\n",
       "      <td>0.0</td>\n",
       "      <td>0.0</td>\n",
       "      <td>0.0</td>\n",
       "      <td>0.0</td>\n",
       "      <td>0.0</td>\n",
       "      <td>0.0</td>\n",
       "      <td>0.0</td>\n",
       "      <td>0.0</td>\n",
       "      <td>0.0</td>\n",
       "    </tr>\n",
       "    <tr>\n",
       "      <th>1</th>\n",
       "      <td>2</td>\n",
       "      <td>7.8</td>\n",
       "      <td>55.0</td>\n",
       "      <td>0.38</td>\n",
       "      <td>3.5</td>\n",
       "      <td>3.0</td>\n",
       "      <td>120.0</td>\n",
       "      <td>0.18</td>\n",
       "      <td>132.0</td>\n",
       "      <td>2.0</td>\n",
       "      <td>...</td>\n",
       "      <td>0.0</td>\n",
       "      <td>0.0</td>\n",
       "      <td>0.0</td>\n",
       "      <td>0.0</td>\n",
       "      <td>0.0</td>\n",
       "      <td>0.0</td>\n",
       "      <td>0.0</td>\n",
       "      <td>0.0</td>\n",
       "      <td>0.0</td>\n",
       "      <td>0.0</td>\n",
       "    </tr>\n",
       "    <tr>\n",
       "      <th>2</th>\n",
       "      <td>3</td>\n",
       "      <td>10.8</td>\n",
       "      <td>52.0</td>\n",
       "      <td>0.30</td>\n",
       "      <td>4.0</td>\n",
       "      <td>10.0</td>\n",
       "      <td>180.0</td>\n",
       "      <td>0.11</td>\n",
       "      <td>132.0</td>\n",
       "      <td>3.0</td>\n",
       "      <td>...</td>\n",
       "      <td>0.0</td>\n",
       "      <td>0.0</td>\n",
       "      <td>0.0</td>\n",
       "      <td>0.0</td>\n",
       "      <td>0.0</td>\n",
       "      <td>0.0</td>\n",
       "      <td>0.0</td>\n",
       "      <td>0.0</td>\n",
       "      <td>0.0</td>\n",
       "      <td>0.0</td>\n",
       "    </tr>\n",
       "    <tr>\n",
       "      <th>3</th>\n",
       "      <td>4</td>\n",
       "      <td>8.0</td>\n",
       "      <td>68.0</td>\n",
       "      <td>0.75</td>\n",
       "      <td>3.9</td>\n",
       "      <td>10.0</td>\n",
       "      <td>120.0</td>\n",
       "      <td>0.37</td>\n",
       "      <td>146.0</td>\n",
       "      <td>2.0</td>\n",
       "      <td>...</td>\n",
       "      <td>0.0</td>\n",
       "      <td>0.0</td>\n",
       "      <td>0.0</td>\n",
       "      <td>0.0</td>\n",
       "      <td>0.0</td>\n",
       "      <td>0.0</td>\n",
       "      <td>0.0</td>\n",
       "      <td>0.0</td>\n",
       "      <td>0.0</td>\n",
       "      <td>1.0</td>\n",
       "    </tr>\n",
       "    <tr>\n",
       "      <th>4</th>\n",
       "      <td>5</td>\n",
       "      <td>8.3</td>\n",
       "      <td>60.0</td>\n",
       "      <td>0.45</td>\n",
       "      <td>3.5</td>\n",
       "      <td>10.0</td>\n",
       "      <td>160.0</td>\n",
       "      <td>0.22</td>\n",
       "      <td>132.0</td>\n",
       "      <td>9.0</td>\n",
       "      <td>...</td>\n",
       "      <td>0.0</td>\n",
       "      <td>0.0</td>\n",
       "      <td>0.0</td>\n",
       "      <td>0.0</td>\n",
       "      <td>0.0</td>\n",
       "      <td>0.0</td>\n",
       "      <td>0.0</td>\n",
       "      <td>0.0</td>\n",
       "      <td>0.0</td>\n",
       "      <td>0.0</td>\n",
       "    </tr>\n",
       "  </tbody>\n",
       "</table>\n",
       "<p>5 rows × 104 columns</p>\n",
       "</div>\n",
       "    <div class=\"colab-df-buttons\">\n",
       "\n",
       "  <div class=\"colab-df-container\">\n",
       "    <button class=\"colab-df-convert\" onclick=\"convertToInteractive('df-95214447-3c55-4101-b1ae-2f610feedfd1')\"\n",
       "            title=\"Convert this dataframe to an interactive table.\"\n",
       "            style=\"display:none;\">\n",
       "\n",
       "  <svg xmlns=\"http://www.w3.org/2000/svg\" height=\"24px\" viewBox=\"0 -960 960 960\">\n",
       "    <path d=\"M120-120v-720h720v720H120Zm60-500h600v-160H180v160Zm220 220h160v-160H400v160Zm0 220h160v-160H400v160ZM180-400h160v-160H180v160Zm440 0h160v-160H620v160ZM180-180h160v-160H180v160Zm440 0h160v-160H620v160Z\"/>\n",
       "  </svg>\n",
       "    </button>\n",
       "\n",
       "  <style>\n",
       "    .colab-df-container {\n",
       "      display:flex;\n",
       "      gap: 12px;\n",
       "    }\n",
       "\n",
       "    .colab-df-convert {\n",
       "      background-color: #E8F0FE;\n",
       "      border: none;\n",
       "      border-radius: 50%;\n",
       "      cursor: pointer;\n",
       "      display: none;\n",
       "      fill: #1967D2;\n",
       "      height: 32px;\n",
       "      padding: 0 0 0 0;\n",
       "      width: 32px;\n",
       "    }\n",
       "\n",
       "    .colab-df-convert:hover {\n",
       "      background-color: #E2EBFA;\n",
       "      box-shadow: 0px 1px 2px rgba(60, 64, 67, 0.3), 0px 1px 3px 1px rgba(60, 64, 67, 0.15);\n",
       "      fill: #174EA6;\n",
       "    }\n",
       "\n",
       "    .colab-df-buttons div {\n",
       "      margin-bottom: 4px;\n",
       "    }\n",
       "\n",
       "    [theme=dark] .colab-df-convert {\n",
       "      background-color: #3B4455;\n",
       "      fill: #D2E3FC;\n",
       "    }\n",
       "\n",
       "    [theme=dark] .colab-df-convert:hover {\n",
       "      background-color: #434B5C;\n",
       "      box-shadow: 0px 1px 3px 1px rgba(0, 0, 0, 0.15);\n",
       "      filter: drop-shadow(0px 1px 2px rgba(0, 0, 0, 0.3));\n",
       "      fill: #FFFFFF;\n",
       "    }\n",
       "  </style>\n",
       "\n",
       "    <script>\n",
       "      const buttonEl =\n",
       "        document.querySelector('#df-95214447-3c55-4101-b1ae-2f610feedfd1 button.colab-df-convert');\n",
       "      buttonEl.style.display =\n",
       "        google.colab.kernel.accessAllowed ? 'block' : 'none';\n",
       "\n",
       "      async function convertToInteractive(key) {\n",
       "        const element = document.querySelector('#df-95214447-3c55-4101-b1ae-2f610feedfd1');\n",
       "        const dataTable =\n",
       "          await google.colab.kernel.invokeFunction('convertToInteractive',\n",
       "                                                    [key], {});\n",
       "        if (!dataTable) return;\n",
       "\n",
       "        const docLinkHtml = 'Like what you see? Visit the ' +\n",
       "          '<a target=\"_blank\" href=https://colab.research.google.com/notebooks/data_table.ipynb>data table notebook</a>'\n",
       "          + ' to learn more about interactive tables.';\n",
       "        element.innerHTML = '';\n",
       "        dataTable['output_type'] = 'display_data';\n",
       "        await google.colab.output.renderOutput(dataTable, element);\n",
       "        const docLink = document.createElement('div');\n",
       "        docLink.innerHTML = docLinkHtml;\n",
       "        element.appendChild(docLink);\n",
       "      }\n",
       "    </script>\n",
       "  </div>\n",
       "\n",
       "\n",
       "<div id=\"df-10004273-1d22-4d72-aa05-894854644f3c\">\n",
       "  <button class=\"colab-df-quickchart\" onclick=\"quickchart('df-10004273-1d22-4d72-aa05-894854644f3c')\"\n",
       "            title=\"Suggest charts\"\n",
       "            style=\"display:none;\">\n",
       "\n",
       "<svg xmlns=\"http://www.w3.org/2000/svg\" height=\"24px\"viewBox=\"0 0 24 24\"\n",
       "     width=\"24px\">\n",
       "    <g>\n",
       "        <path d=\"M19 3H5c-1.1 0-2 .9-2 2v14c0 1.1.9 2 2 2h14c1.1 0 2-.9 2-2V5c0-1.1-.9-2-2-2zM9 17H7v-7h2v7zm4 0h-2V7h2v10zm4 0h-2v-4h2v4z\"/>\n",
       "    </g>\n",
       "</svg>\n",
       "  </button>\n",
       "\n",
       "<style>\n",
       "  .colab-df-quickchart {\n",
       "      --bg-color: #E8F0FE;\n",
       "      --fill-color: #1967D2;\n",
       "      --hover-bg-color: #E2EBFA;\n",
       "      --hover-fill-color: #174EA6;\n",
       "      --disabled-fill-color: #AAA;\n",
       "      --disabled-bg-color: #DDD;\n",
       "  }\n",
       "\n",
       "  [theme=dark] .colab-df-quickchart {\n",
       "      --bg-color: #3B4455;\n",
       "      --fill-color: #D2E3FC;\n",
       "      --hover-bg-color: #434B5C;\n",
       "      --hover-fill-color: #FFFFFF;\n",
       "      --disabled-bg-color: #3B4455;\n",
       "      --disabled-fill-color: #666;\n",
       "  }\n",
       "\n",
       "  .colab-df-quickchart {\n",
       "    background-color: var(--bg-color);\n",
       "    border: none;\n",
       "    border-radius: 50%;\n",
       "    cursor: pointer;\n",
       "    display: none;\n",
       "    fill: var(--fill-color);\n",
       "    height: 32px;\n",
       "    padding: 0;\n",
       "    width: 32px;\n",
       "  }\n",
       "\n",
       "  .colab-df-quickchart:hover {\n",
       "    background-color: var(--hover-bg-color);\n",
       "    box-shadow: 0 1px 2px rgba(60, 64, 67, 0.3), 0 1px 3px 1px rgba(60, 64, 67, 0.15);\n",
       "    fill: var(--button-hover-fill-color);\n",
       "  }\n",
       "\n",
       "  .colab-df-quickchart-complete:disabled,\n",
       "  .colab-df-quickchart-complete:disabled:hover {\n",
       "    background-color: var(--disabled-bg-color);\n",
       "    fill: var(--disabled-fill-color);\n",
       "    box-shadow: none;\n",
       "  }\n",
       "\n",
       "  .colab-df-spinner {\n",
       "    border: 2px solid var(--fill-color);\n",
       "    border-color: transparent;\n",
       "    border-bottom-color: var(--fill-color);\n",
       "    animation:\n",
       "      spin 1s steps(1) infinite;\n",
       "  }\n",
       "\n",
       "  @keyframes spin {\n",
       "    0% {\n",
       "      border-color: transparent;\n",
       "      border-bottom-color: var(--fill-color);\n",
       "      border-left-color: var(--fill-color);\n",
       "    }\n",
       "    20% {\n",
       "      border-color: transparent;\n",
       "      border-left-color: var(--fill-color);\n",
       "      border-top-color: var(--fill-color);\n",
       "    }\n",
       "    30% {\n",
       "      border-color: transparent;\n",
       "      border-left-color: var(--fill-color);\n",
       "      border-top-color: var(--fill-color);\n",
       "      border-right-color: var(--fill-color);\n",
       "    }\n",
       "    40% {\n",
       "      border-color: transparent;\n",
       "      border-right-color: var(--fill-color);\n",
       "      border-top-color: var(--fill-color);\n",
       "    }\n",
       "    60% {\n",
       "      border-color: transparent;\n",
       "      border-right-color: var(--fill-color);\n",
       "    }\n",
       "    80% {\n",
       "      border-color: transparent;\n",
       "      border-right-color: var(--fill-color);\n",
       "      border-bottom-color: var(--fill-color);\n",
       "    }\n",
       "    90% {\n",
       "      border-color: transparent;\n",
       "      border-bottom-color: var(--fill-color);\n",
       "    }\n",
       "  }\n",
       "</style>\n",
       "\n",
       "  <script>\n",
       "    async function quickchart(key) {\n",
       "      const quickchartButtonEl =\n",
       "        document.querySelector('#' + key + ' button');\n",
       "      quickchartButtonEl.disabled = true;  // To prevent multiple clicks.\n",
       "      quickchartButtonEl.classList.add('colab-df-spinner');\n",
       "      try {\n",
       "        const charts = await google.colab.kernel.invokeFunction(\n",
       "            'suggestCharts', [key], {});\n",
       "      } catch (error) {\n",
       "        console.error('Error during call to suggestCharts:', error);\n",
       "      }\n",
       "      quickchartButtonEl.classList.remove('colab-df-spinner');\n",
       "      quickchartButtonEl.classList.add('colab-df-quickchart-complete');\n",
       "    }\n",
       "    (() => {\n",
       "      let quickchartButtonEl =\n",
       "        document.querySelector('#df-10004273-1d22-4d72-aa05-894854644f3c button');\n",
       "      quickchartButtonEl.style.display =\n",
       "        google.colab.kernel.accessAllowed ? 'block' : 'none';\n",
       "    })();\n",
       "  </script>\n",
       "</div>\n",
       "    </div>\n",
       "  </div>\n"
      ],
      "text/plain": [
       "   ID  L_BLOOD   AGE  ALT_BLOOD  K_BLOOD   ROE  S_AD_ORIT  AST_BLOOD  \\\n",
       "0   1      8.0  77.0       0.38      4.7  16.0      180.0       0.22   \n",
       "1   2      7.8  55.0       0.38      3.5   3.0      120.0       0.18   \n",
       "2   3     10.8  52.0       0.30      4.0  10.0      180.0       0.11   \n",
       "3   4      8.0  68.0       0.75      3.9  10.0      120.0       0.37   \n",
       "4   5      8.3  60.0       0.45      3.5  10.0      160.0       0.22   \n",
       "\n",
       "   Na_BLOOD  TIME_B_S  ...  GIPER_Na  ritm_ecg_p_04  fibr_ter_03  GT_POST  \\\n",
       "0     138.0       4.0  ...       0.0            0.0          0.0      0.0   \n",
       "1     132.0       2.0  ...       0.0            0.0          0.0      0.0   \n",
       "2     132.0       3.0  ...       0.0            0.0          0.0      0.0   \n",
       "3     146.0       2.0  ...       0.0            0.0          0.0      0.0   \n",
       "4     132.0       9.0  ...       0.0            0.0          0.0      0.0   \n",
       "\n",
       "   fibr_ter_06  np09  zab_leg_04  n_r_ecg_p_02  n_p_ecg_p_05  ZSN_A  \n",
       "0          0.0   0.0         0.0           0.0           0.0    0.0  \n",
       "1          0.0   0.0         0.0           0.0           0.0    0.0  \n",
       "2          0.0   0.0         0.0           0.0           0.0    0.0  \n",
       "3          0.0   0.0         0.0           0.0           0.0    1.0  \n",
       "4          0.0   0.0         0.0           0.0           0.0    0.0  \n",
       "\n",
       "[5 rows x 104 columns]"
      ]
     },
     "execution_count": 6,
     "metadata": {},
     "output_type": "execute_result"
    }
   ],
   "source": [
    "df.head()"
   ]
  },
  {
   "cell_type": "markdown",
   "metadata": {
    "id": "42k-qKUXrfd-"
   },
   "source": [
    "Para poder probar varios modelos, primero vamos a dividir el dataset entre train y test. El outcome es ZSN_A. Además, para obtener los mismos resultados y poder comentar dudas en el foro/correo, se fijará el seed = 13.\n",
    "\n",
    "Como en este ejercicio se utilizará stacking y cascading, y ambos se aplican sobre el conjunto de test, se hará un split del 60% para tener un poco más de base al aplicar estas dos técnicas."
   ]
  },
  {
   "cell_type": "code",
   "execution_count": 7,
   "metadata": {
    "executionInfo": {
     "elapsed": 281,
     "status": "ok",
     "timestamp": 1705116506838,
     "user": {
      "displayName": "Juan Lara Chups",
      "userId": "04383778811652746669"
     },
     "user_tz": -60
    },
    "id": "SQLYWGJBrfd_"
   },
   "outputs": [],
   "source": [
    "#division del dataset en varuable objetivo y explicaticas\n",
    "X = df.drop('ZSN_A', axis=1)\n",
    "y = df['ZSN_A']\n",
    "\n",
    "#division del conjunto train y test\n",
    "X_train, X_test, y_train, y_test = train_test_split(X, y, test_size=0.6, random_state=13)"
   ]
  },
  {
   "cell_type": "markdown",
   "metadata": {
    "id": "8ler0R_0rfd_"
   },
   "source": [
    "## 1.2. Combinación paralela de clasificadores (3 puntos)"
   ]
  },
  {
   "cell_type": "markdown",
   "metadata": {
    "id": "I-agWlx4rfd_"
   },
   "source": [
    "### 1.2.1. Árboles de decisión"
   ]
  },
  {
   "cell_type": "markdown",
   "metadata": {
    "id": "3EErxUTlrfd_"
   },
   "source": [
    "Para poder comparar el aumento de performance obtenido a medida que vamos aplicando técnicas nuevas, utilizaremos como baseline un simple árbol de decisión."
   ]
  },
  {
   "cell_type": "markdown",
   "metadata": {
    "id": "wnQi0LW1rfd_"
   },
   "source": [
    "<div class=\"alert alert-block alert-info\">\n",
    "    <strong>Implementación:</strong> Define un árbol de decisión con profundidad máxima de 3 niveles (aplicaremos la misma restricción en las siguientes secciones), utilizando la semilla definida en el apartado anterior y calcula su precisión sobre el conjunto de train aplicando validación cruzada con 5 conjuntos. A continuación, entrena el árbol de decisión sobre el conjunto de datos de train y evalua sobre test utilizando la precisión como métrica ('accuracy'). <strong>Sugerencia:</strong> usar el módulo <strong>cross_val_score</strong> de <strong>sklearn</strong>.\n",
    "</div>\n",
    "\n",
    "Para aprender más sobre <strong>cross validation</strong> y sobre como usar estos módulos, os recomendamos los siguientes enlaces:\n",
    "- [cross_val_score](http://scikit-learn.org/stable/modules/generated/sklearn.model_selection.cross_val_score.html)\n",
    "- [cross_validation](http://scikit-learn.org/stable/modules/cross_validation.html)"
   ]
  },
  {
   "cell_type": "code",
   "execution_count": 12,
   "metadata": {
    "colab": {
     "base_uri": "https://localhost:8080/"
    },
    "executionInfo": {
     "elapsed": 272,
     "status": "ok",
     "timestamp": 1705116973621,
     "user": {
      "displayName": "Juan Lara Chups",
      "userId": "04383778811652746669"
     },
     "user_tz": -60
    },
    "id": "thIeH_jLrfd_",
    "outputId": "1f026a0f-7f06-4346-defd-2906589dde08"
   },
   "outputs": [
    {
     "name": "stdout",
     "output_type": "stream",
     "text": [
      "Precision de la validacion cruzada en 5 conjuntos: [0.91911765 0.91911765 0.88970588 0.91176471 0.88970588]\n",
      "Precisión con validación cruzada en train: 0.9058823529411765\n",
      "Precisión en test: 0.8784313725490196\n"
     ]
    }
   ],
   "source": [
    "#Se crea el modelo de aprendizaje supervisado tree.\n",
    "mas_tree = DecisionTreeClassifier(max_depth=3, random_state=13)\n",
    "\n",
    "cross_val_accuracy = cross_val_score(mas_tree, X_train, y_train, cv=5, scoring='accuracy')\n",
    "print(\"Precision de la validacion cruzada en 5 conjuntos:\", cross_val_accuracy)\n",
    "print(\"Precisión con validación cruzada en train:\", np.mean(cross_val_accuracy))\n",
    "\n",
    "mas_tree.fit(X_train, y_train)\n",
    "\n",
    "test_accuracy = mas_tree.score(X_test, y_test)\n",
    "print(\"Precisión en test:\", test_accuracy)"
   ]
  },
  {
   "cell_type": "markdown",
   "metadata": {
    "id": "jhrr2QNyrfeA"
   },
   "source": [
    "<div class=\"alert alert-block alert-info\">\n",
    "    <strong>Análisis:</strong> Analizad los resultados obtenidos.\n",
    "</div>"
   ]
  },
  {
   "cell_type": "markdown",
   "metadata": {
    "id": "vRhLpCZyrfeA"
   },
   "source": [
    "<div class=\"alert alert-block alert-success\">\n",
    "<strong>\n",
    "\n",
    "Respuesta: Los resultados de la validacion cruzada muestran unos valores bastante favorables en la precision (+88%). Por lo que, al entrenar el modelo y enfrentarse a los datos nuevos recogidos en en las variables test muestra una precision del 88%.\n",
    "\n",
    "Cabe destacar que la precision alta no siempre refleja que nuestro modelo sea el idoneo, ya que entra en juego si existe sobreentrenamiento o la naturaleza de la variable Y que queramos predecir. </strong>\n",
    "\n",
    "\n",
    "</div>"
   ]
  },
  {
   "cell_type": "markdown",
   "metadata": {
    "id": "LIetl-merfeA"
   },
   "source": [
    "### 1.2.2. Bagging"
   ]
  },
  {
   "cell_type": "markdown",
   "metadata": {
    "id": "DHcEP-AFrfeA"
   },
   "source": [
    "La idea central del bagging es usar réplicas del conjunto de datos original y usarlas para entrenar diferentes clasificadores.\n",
    "\n",
    "Crearemos subconjuntos muestreando aleatoriamente un montón de puntos del conjunto de datos de entrenamiento con reemplazo.\n",
    "\n",
    "Ahora entrenaremos clasificadores individuales en cada uno de estos subconjuntos bootstrap.\n",
    "\n",
    "Cada uno de estos clasificadores base predecirá la etiqueta de clase para un problema dado. Aquí es donde combinamos las predicciones de todos los modelos base. Esta parte se llama etapa de agregación. Es por eso que encontraréis los ensembles bagging por el nombre de ensembles de agregación.\n",
    "\n",
    "Por lo general, se usa un voto de mayoría simple en un sistema de clasificación y se toma la media de todas las predicciones para los modelos de regresión para combinar todos los clasificadores base en un solo modelo y proporcionar el resultado final del modelo de conjunto.\n",
    "\n",
    "Un ejemplo simple de tal enfoque es el algoritmo Random Forest. El bagging reduce la alta variación (varianza) de un modelo, reduciendo así el error de generalización. Es un método muy eficaz, especialmente cuando tenemos datos muy limitados con pudiera ser nuestro caso.\n",
    "\n",
    "Mediante el uso de muestras de bootstrap, podemos obtener una estimación agregando las puntuaciones de muchas muestras.\n",
    "\n",
    "<strong>¿Cómo haríamos bagging?</strong>\n",
    "\n",
    "Supongamos que tenemos un conjunto de entrenamiento que contiene 100.000 puntos de datos.\n",
    "\n",
    "Crearíamos N subconjuntos muestreando al azar 50K puntos de datos para cada subconjunto.\n",
    "\n",
    "Cada uno de estos N subconjuntos se utilizará para entrenar N clasificadores diferentes.\n",
    "\n",
    "En la etapa de agregación, todas estas N predicciones se combinarán en un solo modelo, también llamado metaclasificador.\n",
    "\n",
    "De los 100.000 puntos presentes originalmente en el conjunto de datos, si eliminamos 1000 puntos, el impacto que tendrá en los conjuntos de datos muestreados será muy inferior.\n",
    "\n",
    "Si pensamos intuitivamente, es posible que algunos de estos 1000 puntos no estén presentes en todos los conjuntos de datos muestreados y, por lo tanto, la cantidad de puntos que se eliminarán de cada conjunto de datos muestreados será muy inferior. ¡Incluso cero en algunos casos! En resumen, el impacto de eliminar 1000 puntos de este tipo será en realidad menor en los clasificadores base, lo que reducirá la variación en un modelo y lo hará más sólido.\n",
    "\n",
    "La varianza no es más que sensibilidad al ruido, como hemos comentado anteriormente."
   ]
  },
  {
   "cell_type": "markdown",
   "metadata": {
    "id": "_Qij5dWMrfeA"
   },
   "source": [
    "<div class=\"alert alert-block alert-info\">\n",
    "    <strong>Implementación:</strong> Define un Random Forest Classifier con 20 árboles de decisión y profundidad máxima de 3 niveles, utilizando la semilla definida al inicio del segundo ejercicio, y calcula su precisión sobre el conjunto de train aplicando validación cruzada con 5 conjuntos. A continuación, entrena el modelo sobre el conjunto de datos de train y evalua sobre test utilizando la precisión como métrica ('accuracy').\n",
    "</div>\n",
    "\n",
    "<strong>Sugerencia:</strong> Usar el módulo `RandomForestClassifier` de **sklearn**.\n",
    "\n",
    "Para apender a usar este módulo os recomendamos el siguiente:\n",
    "- [RandomForestClassifier](http://scikit-learn.org/stable/modules/generated/sklearn.ensemble.RandomForestClassifier.html)"
   ]
  },
  {
   "cell_type": "code",
   "execution_count": 16,
   "metadata": {
    "colab": {
     "base_uri": "https://localhost:8080/"
    },
    "executionInfo": {
     "elapsed": 1506,
     "status": "ok",
     "timestamp": 1705117899081,
     "user": {
      "displayName": "Juan Lara Chups",
      "userId": "04383778811652746669"
     },
     "user_tz": -60
    },
    "id": "_lm5S0LirfeA",
    "outputId": "69a80b5d-48a3-435b-bbe6-f6f0f2597815"
   },
   "outputs": [
    {
     "name": "stdout",
     "output_type": "stream",
     "text": [
      "Precision de la validacion en los 5 conjuntos: [0.91911765 0.91911765 0.91911765 0.91911765 0.91176471]\n",
      "Precisión con validación cruzada en train (Random Forest): 0.9176470588235294\n",
      "Precisión en test (Random Forest): 0.8803921568627451\n"
     ]
    }
   ],
   "source": [
    "from sklearn.ensemble import RandomForestClassifier\n",
    "\n",
    "random_forest_model = RandomForestClassifier(n_estimators=20, max_depth=3, random_state=13)\n",
    "\n",
    "cross_val_accuracy_rf = cross_val_score(random_forest_model, X_train, y_train, cv=5, scoring='accuracy')\n",
    "print(\"Precision de la validacion en los 5 conjuntos:\", cross_val_accuracy_rf)\n",
    "print(\"Precisión con validación cruzada en train (Random Forest):\", np.mean(cross_val_accuracy_rf))\n",
    "\n",
    "random_forest_model.fit(X_train, y_train)\n",
    "\n",
    "test_accuracy_rf = random_forest_model.score(X_test, y_test)\n",
    "print(\"Precisión en test (Random Forest):\", test_accuracy_rf)"
   ]
  },
  {
   "cell_type": "markdown",
   "metadata": {
    "id": "cf5soww4rfeB"
   },
   "source": [
    "<div class=\"alert alert-block alert-info\">\n",
    "    <strong>Análisis:</strong> Analizad los resultados obtenidos.\n",
    "</div>"
   ]
  },
  {
   "cell_type": "markdown",
   "metadata": {
    "id": "U2JA_evCrfeB"
   },
   "source": [
    "<div class=\"alert alert-block alert-success\">\n",
    "<strong>Respuesta:\n",
    "\n",
    "Al igual que el anterior apartado se ha conseguido una precision favorable aunque esta vez se ha conseguido una precision en la validacion de los 5 conjuntos superior (91%).\n",
    "\n",
    "De la misma manera, se ha aumentado la precision ajustando el modelo a los datos para los test mejores que el anterior.\n",
    "</strong>\n",
    "\n",
    "\n",
    "</div>"
   ]
  },
  {
   "cell_type": "markdown",
   "metadata": {
    "id": "Eb1gEV3-rfeB"
   },
   "source": [
    "### 1.2.3. Boosting"
   ]
  },
  {
   "cell_type": "markdown",
   "metadata": {
    "id": "3_LgVn1crfeB"
   },
   "source": [
    "El boosting se utiliza para convertir a los clasificadores de base débil en fuertes. Los clasificadores débiles generalmente tienen una correlación muy débil con las etiquetas de clase verdaderas y los clasificadores fuertes tienen una correlación muy alta entre el modelo y las etiquetas de clase verdaderas.\n",
    "\n",
    "El boosting capacita a los clasificadores débiles de manera iterativa, cada uno tratando de corregir el error cometido por el modelo anterior. Esto se logra entrenando un modelo débil en todos los datos de entrenamiento, luego construyendo un segundo modelo que tiene como objetivo corregir los errores cometidos por el primer modelo. Luego construimos un tercer modelo que intenta corregir los errores cometidos por el segundo modelo y así sucesivamente. Los modelos se agregan de forma iterativa hasta que el modelo final ha corregido todos los errores cometidos por todos los modelos anteriores.\n",
    "\n",
    "Cuando se agregan los modelos en cada etapa, se asignan algunos pesos al modelo que está relacionado con la precisión del modelo anterior. Después de agregar un clasificador débil, los pesos se vuelven a ajustar. Los puntos clasificados incorrectamente reciben pesos más altos y los puntos clasificados correctamente reciben pesos más bajos. Este enfoque hará que el siguiente clasificador se centre en los errores cometidos por el modelo anterior.\n",
    "\n",
    "El boosting reduce el error de generalización tomando un modelo de alto bias y baja varianza y reduciendo el bias en un nivel significativo. Recuerde, el bagging reduce la varianza. Al igual que el bagging, el boosting también nos permite trabajar con modelos de clasificación y regresión."
   ]
  },
  {
   "cell_type": "markdown",
   "metadata": {
    "id": "2ecRtuxtrfeB"
   },
   "source": [
    "<div class=\"alert alert-block alert-info\">\n",
    "    <strong>Implementación:</strong> Define un Gradient Boosting Classifier con 20 árboles de decisión y profundidad máxima de 3 niveles, utilizando la semilla definida al inicio del segundo ejercicio, y calcula su precisión sobre el conjunto de train aplicando validación cruzada con 5 conjuntos. A continuación, entrena el modelo sobre el conjunto de datos de train y evalua sobre test utilizando la precisión como métrica ('accuracy').\n",
    "</div>\n",
    "    \n",
    "<strong>Sugerencia:</strong>\n",
    "- Usar el módulo [GradientBoostingClassifier](http://scikit-learn.org/stable/modules/generated/sklearn.ensemble.GradientBoostingClassifier.html) de **sklearn**."
   ]
  },
  {
   "cell_type": "code",
   "execution_count": 17,
   "metadata": {
    "colab": {
     "base_uri": "https://localhost:8080/"
    },
    "executionInfo": {
     "elapsed": 2308,
     "status": "ok",
     "timestamp": 1705118243759,
     "user": {
      "displayName": "Juan Lara Chups",
      "userId": "04383778811652746669"
     },
     "user_tz": -60
    },
    "id": "f52xs5JZrfeR",
    "outputId": "a065fef5-1fcf-41b5-c0bb-0e85fdfe5acc"
   },
   "outputs": [
    {
     "name": "stdout",
     "output_type": "stream",
     "text": [
      "Precision validacion sobre 5 conjuntos: [0.89705882 0.88970588 0.90441176 0.90441176 0.89705882]\n",
      "Precisión con validación cruzada en train: 0.8985294117647058\n",
      "Precisión en test: 0.8705882352941177\n"
     ]
    }
   ],
   "source": [
    "from sklearn.ensemble import GradientBoostingClassifier\n",
    "\n",
    "gradient_boosting_model = GradientBoostingClassifier(n_estimators=20, max_depth=3, random_state=13)\n",
    "\n",
    "cross_val_accuracy_gb = cross_val_score(gradient_boosting_model, X_train, y_train, cv=5, scoring='accuracy')\n",
    "print(\"Precision validacion sobre 5 conjuntos:\", cross_val_accuracy_gb)\n",
    "print(\"Precisión con validación cruzada en train:\", np.mean(cross_val_accuracy_gb))\n",
    "\n",
    "gradient_boosting_model.fit(X_train, y_train)\n",
    "\n",
    "test_accuracy_gb = gradient_boosting_model.score(X_test, y_test)\n",
    "print(\"Precisión en test:\", test_accuracy_gb)\n"
   ]
  },
  {
   "cell_type": "markdown",
   "metadata": {
    "id": "syQGyJwyrfeS"
   },
   "source": [
    "<div class=\"alert alert-block alert-info\">\n",
    "    <strong>Análisis:</strong> Analizad los resultados obtenidos.\n",
    "</div>"
   ]
  },
  {
   "cell_type": "markdown",
   "metadata": {
    "id": "qgf2jXeorfeS"
   },
   "source": [
    "<div class=\"alert alert-block alert-success\">\n",
    "<strong>Respuesta:\n",
    "\n",
    "En este caso se ha encontrado otra vez una precision bastante favorable superando los 88 puntos en los 5 conjutos de validacion.\n",
    "\n",
    "Para el conjunto test con el modelo entrenado se consigue una precision del 87%. De los tres modelos entrenados hasta ahora este es el que peor precision muestra.\n",
    "</strong>\n",
    "\n",
    "\n",
    "</div>"
   ]
  },
  {
   "cell_type": "markdown",
   "metadata": {
    "id": "4HHeh3lXrfeS"
   },
   "source": [
    "## 1.3. Combinación secuencial de clasificadores base diferentes (3 puntos)"
   ]
  },
  {
   "cell_type": "markdown",
   "metadata": {
    "id": "PF7tixpQrfeS"
   },
   "source": [
    "Para poder hacer combinación secuencial de modelos, necesitamos tener varios modelos diferentes entrenados. En nuestro caso, ya tenemos un árbol de decisión. Vamos a entrenar un par de modelos más."
   ]
  },
  {
   "cell_type": "markdown",
   "metadata": {
    "id": "M-inMXugrfeS"
   },
   "source": [
    "### 1.3.1. KNN (k vecinos más próximos)"
   ]
  },
  {
   "cell_type": "markdown",
   "metadata": {
    "id": "ezSe0j4jrfeS"
   },
   "source": [
    "<div class=\"alert alert-block alert-info\">\n",
    "    <strong>Implementación:</strong> Define un K-Neighbors Classifier con 2 vecinos y calcula su precisión sobre el conjunto de train aplicando validación cruzada con 5 conjuntos. A continuación, entrena el modelo sobre el conjunto de datos de train y evalua sobre test utilizando la precisión como métrica ('accuracy').</div>"
   ]
  },
  {
   "cell_type": "code",
   "execution_count": 19,
   "metadata": {
    "colab": {
     "base_uri": "https://localhost:8080/"
    },
    "executionInfo": {
     "elapsed": 1121,
     "status": "ok",
     "timestamp": 1705118623610,
     "user": {
      "displayName": "Juan Lara Chups",
      "userId": "04383778811652746669"
     },
     "user_tz": -60
    },
    "id": "ix0EmKxfrfeS",
    "outputId": "00a957fd-c048-4f5f-abfa-fedabd89cba7"
   },
   "outputs": [
    {
     "name": "stdout",
     "output_type": "stream",
     "text": [
      "Precision validacion de 5 conjuntos: [0.90441176 0.91176471 0.91176471 0.91176471 0.90441176]\n",
      "Precisión con validación cruzada en train (K-Neighbors): 0.9088235294117647\n",
      "Precisión en test (K-Neighbors): 0.8754901960784314\n"
     ]
    }
   ],
   "source": [
    "k_neighbors_model = KNeighborsClassifier(n_neighbors=2)\n",
    "\n",
    "cross_val_accuracy_kn = cross_val_score(k_neighbors_model, X_train, y_train, cv=5, scoring='accuracy')\n",
    "print(\"Precision validacion de 5 conjuntos:\", cross_val_accuracy_kn)\n",
    "print(\"Precisión con validación cruzada en train (K-Neighbors):\", np.mean(cross_val_accuracy_kn))\n",
    "\n",
    "k_neighbors_model.fit(X_train, y_train)\n",
    "\n",
    "test_accuracy_kn = k_neighbors_model.score(X_test, y_test)\n",
    "print(\"Precisión en test (K-Neighbors):\", test_accuracy_kn)"
   ]
  },
  {
   "cell_type": "markdown",
   "metadata": {
    "id": "N5E3GR7lrfeS"
   },
   "source": [
    "### 1.3.2. SVM (Support Vector Machines)"
   ]
  },
  {
   "cell_type": "markdown",
   "metadata": {
    "id": "SiXrBQ5DrfeT"
   },
   "source": [
    "<div class=\"alert alert-block alert-info\">\n",
    "    <strong>Implementación:</strong> Define un SVM con gamma = 0.07 y calcula su precisión sobre el conjunto de train aplicando validación cruzada con 5 conjuntos. A continuación, entrena el modelo sobre el conjunto de datos de train y evalua sobre test utilizando la precisión como métrica ('accuracy').</div>"
   ]
  },
  {
   "cell_type": "code",
   "execution_count": 21,
   "metadata": {
    "colab": {
     "base_uri": "https://localhost:8080/"
    },
    "executionInfo": {
     "elapsed": 2814,
     "status": "ok",
     "timestamp": 1705118748951,
     "user": {
      "displayName": "Juan Lara Chups",
      "userId": "04383778811652746669"
     },
     "user_tz": -60
    },
    "id": "o4F-W1OorfeT",
    "outputId": "ae7191d2-a779-419a-f3b5-ec7f970c1220"
   },
   "outputs": [
    {
     "name": "stdout",
     "output_type": "stream",
     "text": [
      "Precision validación cruzada 5 conjuntos: [0.91911765 0.91911765 0.91911765 0.91911765 0.91176471]\n",
      "Precisión con validación cruzada en train: 0.9176470588235294\n",
      "Precisión en test: 0.8803921568627451\n"
     ]
    }
   ],
   "source": [
    "from sklearn.svm import SVC\n",
    "\n",
    "svm_model = SVC(gamma=0.07)\n",
    "\n",
    "cross_val_accuracy_svm = cross_val_score(svm_model, X_train, y_train, cv=5, scoring='accuracy')\n",
    "print(\"Precision validación cruzada 5 conjuntos:\", cross_val_accuracy_svm)\n",
    "print(\"Precisión con validación cruzada en train:\", np.mean(cross_val_accuracy_svm))\n",
    "\n",
    "svm_model.fit(X_train, y_train)\n",
    "\n",
    "test_accuracy_svm = svm_model.score(X_test, y_test)\n",
    "print(\"Precisión en test:\", test_accuracy_svm)"
   ]
  },
  {
   "cell_type": "markdown",
   "metadata": {
    "id": "SArfuvL8rfeT"
   },
   "source": [
    "### 1.3.3. Stacking"
   ]
  },
  {
   "cell_type": "markdown",
   "metadata": {
    "id": "i_RbEQZOrfeT"
   },
   "source": [
    "Todos los modelos individuales se entrenan por separado en el conjunto completo de datos de entrenamiento y se ajustan para lograr una mayor precisión. La compensación de bias y varianza se tiene en cuenta para cada modelo. El modelo final, también conocido como metaclasificador, se alimenta de las etiquetas de clase predichas por los modelos base o de las probabilidades predichas para cada etiqueta de clase. Luego, el metaclasificador se entrena en función de los resultados dados por los modelos base.\n",
    "\n",
    "En el stacking, se entrena un nuevo modelo en función de las predicciones realizadas por los modelos anteriores. Este proceso se lleva a cabo de forma secuencial. Esto significa que varios modelos se entrenan en la etapa 1 y se ajustan con precisión. Las probabilidades pronosticadas de cada modelo de la etapa 1 se alimentan como entrada a todos los modelos en la etapa 2. Los modelos en la etapa 2 luego se ajustan con precisión y las salidas correspondientes se alimentan a los modelos en la etapa 3 y así sucesivamente. Este proceso se produce varias veces en función de la cantidad de capas de apilamiento que desee utilizar.\n",
    "\n",
    "La etapa final consiste en un único modelo que nos da el resultado final al combinar el resultado de todos los modelos presentes en las capas anteriores.\n",
    "\n",
    "A menudo, el uso de clasificadores apilables aumenta la precisión de predicción de un modelo. ¡Pero de ninguna manera puede garantizarse que el uso de apilamiento aumente la precisión de la predicción en todo momento! Echad un vistazo al siguiente [link](http://rasbt.github.io/mlxtend/user_guide/classifier/StackingClassifier/)."
   ]
  },
  {
   "cell_type": "markdown",
   "metadata": {
    "id": "z8VuiyZ8rfeT"
   },
   "source": [
    "<div class=\"alert alert-block alert-info\">\n",
    "    <strong>Implementación:</strong> Construye un clasificador de tipo stacking usando un Gradient Boosting Classifier (con 20 árboles de decisión, profundidad máxima de 3 niveles y la semilla definida al inicio del segundo ejercicio) que use como atributos las predicciones hechas en el conjunto de test por los algoritmos: árbol de decisión, knn y svm. A continuación, calcula la precisión del modelo resultante con <strong>cross-validation</strong> en el conjunto de test (en este caso no tenemos conjunto de train, con lo cual se hace directamente cross-validation sobre test).\n",
    "</div>\n",
    "\n",
    "<strong>Sugerencia:</strong>\n",
    "- Usar la función `column_stack` de <strong>numpy</strong> para juntar todas las predicciones.\n",
    "\n",
    "Para más información, puedes consultar este enlace:\n",
    "- [column_stack](https://docs.scipy.org/doc/numpy-1.14.0/reference/generated/numpy.column_stack.html)"
   ]
  },
  {
   "cell_type": "code",
   "execution_count": 22,
   "metadata": {
    "colab": {
     "base_uri": "https://localhost:8080/"
    },
    "executionInfo": {
     "elapsed": 942,
     "status": "ok",
     "timestamp": 1705120620646,
     "user": {
      "displayName": "Juan Lara Chups",
      "userId": "04383778811652746669"
     },
     "user_tz": -60
    },
    "id": "8cBxNrm5rfeT",
    "outputId": "ab2d725b-a1b4-43d4-f9a8-8a3ae8a1b658"
   },
   "outputs": [
    {
     "name": "stdout",
     "output_type": "stream",
     "text": [
      "Precisión con stacking y validación cruzada en test: 0.8774509803921567\n"
     ]
    }
   ],
   "source": [
    "from numpy import column_stack\n",
    "\n",
    "tree_model = DecisionTreeClassifier(max_depth=3, random_state=13)\n",
    "knn_model = KNeighborsClassifier(n_neighbors=2)\n",
    "svm_model = SVC(gamma=0.07)\n",
    "\n",
    "tree_model.fit(X_train, y_train)\n",
    "knn_model.fit(X_train, y_train)\n",
    "svm_model.fit(X_train, y_train)\n",
    "\n",
    "tree_pred = tree_model.predict(X_test)\n",
    "knn_pred = knn_model.predict(X_test)\n",
    "svm_pred = svm_model.predict(X_test)\n",
    "\n",
    "stacked_predictions = column_stack((tree_pred, knn_pred, svm_pred))\n",
    "\n",
    "stacking_model = GradientBoostingClassifier(n_estimators=20, max_depth=3, random_state=13)\n",
    "\n",
    "stacking_cross_val_accuracy = cross_val_score(stacking_model, stacked_predictions, y_test, cv=5, scoring='accuracy')\n",
    "print(\"Precisión con stacking y validación cruzada en test:\", np.mean(stacking_cross_val_accuracy))\n"
   ]
  },
  {
   "cell_type": "markdown",
   "metadata": {
    "id": "5fWFJuL6rfeT"
   },
   "source": [
    "<div class=\"alert alert-block alert-info\">\n",
    "    <strong>Análisis:</strong> ¿Has conseguido mejorar la precisión gracias al stacking? Comenta los resultados.\n",
    "</div>"
   ]
  },
  {
   "cell_type": "markdown",
   "metadata": {
    "id": "xcWFiTR5rfeU"
   },
   "source": [
    "<div class=\"alert alert-block alert-success\">\n",
    "<strong>Respuesta:\n",
    "\n",
    "En este caso la precision utilizando el stacking no ha mejorado con respecto a los modelos individualmente.\n",
    "\n",
    "Han sido mejores los modelos de arbol de decision y SVM de forma individual.\n",
    "\n",
    "</strong>\n",
    "\n",
    "\n",
    "</div>"
   ]
  },
  {
   "cell_type": "markdown",
   "metadata": {
    "id": "_UoLw0x_rfeU"
   },
   "source": [
    "### 1.3.4. Cascading"
   ]
  },
  {
   "cell_type": "markdown",
   "metadata": {
    "id": "qblWMGbYrfeU"
   },
   "source": [
    "El caso de cascading es parecido al de stacking pero utilizando no solamente las predicciones parciales de los clasificadores base, sino también los datos originales."
   ]
  },
  {
   "cell_type": "markdown",
   "metadata": {
    "id": "M5dVbMSarfeU"
   },
   "source": [
    "<div class=\"alert alert-block alert-info\">\n",
    "    <strong>Implementación:</strong> Construye un clasificador de tipo cascading usando un Gradient Boosting Classifier (con 20 árboles de decisión, profundidad máxima de 3 niveles y la semilla definida al inicio del segundo ejercicio) que use como atributos las predicciones obtenidas con los modelos anteriores en el conjunto de test (igual que con el stacking), y también las variables originales. Calcula la precisión del modelo resultante con <i>cross-validation</i> en el conjunto de test.\n",
    "</div>\n",
    "\n",
    "**Sugerencia**:\n",
    "- Usa el mismo conjunto de datos que en el ejercicio anterior pero añade *X_test*."
   ]
  },
  {
   "cell_type": "code",
   "execution_count": 23,
   "metadata": {
    "colab": {
     "base_uri": "https://localhost:8080/"
    },
    "executionInfo": {
     "elapsed": 2095,
     "status": "ok",
     "timestamp": 1705120847107,
     "user": {
      "displayName": "Juan Lara Chups",
      "userId": "04383778811652746669"
     },
     "user_tz": -60
    },
    "id": "pAV4h6LErfeU",
    "outputId": "002f21cc-5408-4228-f701-160ec196ddbd"
   },
   "outputs": [
    {
     "name": "stdout",
     "output_type": "stream",
     "text": [
      "Precisión con cascading y validación cruzada en test: 0.8686274509803923\n"
     ]
    }
   ],
   "source": [
    "tree_pred = tree_model.predict(X_test)\n",
    "knn_pred = knn_model.predict(X_test)\n",
    "svm_pred = svm_model.predict(X_test)\n",
    "\n",
    "cascading_features = column_stack((X_test, tree_pred, knn_pred, svm_pred))\n",
    "\n",
    "cascading_model = GradientBoostingClassifier(n_estimators=20, max_depth=3, random_state=13)\n",
    "\n",
    "cascading_cross_val_accuracy = cross_val_score(cascading_model, cascading_features, y_test, cv=5, scoring='accuracy')\n",
    "print(\"Precisión con cascading y validación cruzada en test:\", np.mean(cascading_cross_val_accuracy))\n"
   ]
  },
  {
   "cell_type": "markdown",
   "metadata": {
    "id": "uWmf4RwFrfeU"
   },
   "source": [
    "<div class=\"alert alert-block alert-info\">\n",
    "    <strong>Análisis:</strong> Has conseguido mejorar la precisión gracias al cascading?\n",
    "</div>"
   ]
  },
  {
   "cell_type": "markdown",
   "metadata": {
    "id": "Cmrn1NqarfeU"
   },
   "source": [
    "<div class=\"alert alert-block alert-success\">\n",
    "<strong>Respuesta:\n",
    "\n",
    "Con respecto a la implementacion de cascading no ha mejorado las predicciones en comparacion con los modelos aplicados de forma individual\n",
    "</strong>\n",
    "\n",
    "\n",
    "</div>"
   ]
  },
  {
   "cell_type": "markdown",
   "metadata": {
    "id": "jvcMaJckKqGV"
   },
   "source": [
    "## 1.4. Conclusiones (1 punto)\n",
    "\n",
    "<div class=\"alert alert-block alert-info\">\n",
    "    <strong>Análisis:</strong> ¿Cuál consideras que es la mejor herramienta de clasificación para este problema del miocardio? Realiza la comparación entre los diferentes clasificadores, utiliza las gráficas y/o herramientas que consideres necesarias. Comenta los resultados.\n",
    "</div>"
   ]
  },
  {
   "cell_type": "code",
   "execution_count": 29,
   "metadata": {
    "colab": {
     "base_uri": "https://localhost:8080/",
     "height": 565
    },
    "executionInfo": {
     "elapsed": 771,
     "status": "ok",
     "timestamp": 1705121601896,
     "user": {
      "displayName": "Juan Lara Chups",
      "userId": "04383778811652746669"
     },
     "user_tz": -60
    },
    "id": "u2VXF5zeJMrd",
    "outputId": "5b6e8f44-97ae-4a02-dff3-6730c062ca8e"
   },
   "outputs": [
    {
     "data": {
      "image/png": "[encoded data removed]",
      "text/plain": [
       "<Figure size 1000x600 with 1 Axes>"
      ]
     },
     "metadata": {},
     "output_type": "display_data"
    }
   ],
   "source": [
    "import numpy as np\n",
    "import matplotlib.pyplot as plt\n",
    "\n",
    "accuracies = [test_accuracy, test_accuracy_rf, test_accuracy_gb,\n",
    "              test_accuracy_kn, test_accuracy_svm, np.mean(stacking_cross_val_accuracy),\n",
    "              np.mean(cascading_cross_val_accuracy)]\n",
    "\n",
    "model_names = ['Decision Tree', 'Random Forest', 'Gradient Boosting', 'KNN',\n",
    "               'SVM', 'Stacking', 'Cascading']\n",
    "\n",
    "sorted_indices = np.argsort(accuracies)[::-1]\n",
    "sorted_accuracies = [accuracies[i] for i in sorted_indices]\n",
    "sorted_model_names = [model_names[i] for i in sorted_indices]\n",
    "\n",
    "plt.figure(figsize=(10, 6))\n",
    "bars = plt.barh(sorted_model_names, sorted_accuracies, color='skyblue', edgecolor='black')\n",
    "plt.xlabel('Precisión')\n",
    "plt.title('Comparación de Precisión de los Modelos de Clasificación')\n",
    "\n",
    "for bar in bars:\n",
    "    xval = bar.get_width()\n",
    "    plt.text(xval, bar.get_y() + bar.get_height()/2, round(xval, 4), ha='left', va='center')\n",
    "\n",
    "plt.xlim(0, 1)\n",
    "plt.show()"
   ]
  },
  {
   "cell_type": "markdown",
   "metadata": {
    "id": "6t9wXrgHLPIZ"
   },
   "source": [
    "<div class=\"alert alert-block alert-success\">\n",
    "<strong>Respuesta:\n",
    "\n",
    "Al realizar el grafico de barras ordenador de menor a mayor precision podemos llegar a la conclusion de que las precisiones de los modelos son bastante parecidas siendo un 1.90% de variabilidad entre el mejor modelo y el peor.\n",
    "\n",
    "Debido a la gran cantidad de datos que se maneja es de crucial importancia ese 1 % ya que podria equivaler a la mal clasificacion o prediccion de mas de 1000 casos segun las dimensiones del conjuntos de datos.\n",
    "\n",
    "Finalmente el mejor modelo a escoger seria entre SVM o Random forest y por ultimo el Cascading entre el arbol de decision, KNN y SVM. </strong>\n",
    "\n",
    "\n",
    "</div>"
   ]
  },
  {
   "cell_type": "markdown",
   "metadata": {
    "id": "e6EyfSN3rfeU"
   },
   "source": [
    "# 2. Clasificación secuencial y paralela con redes neuronales NNs (2.5 ptos)\n",
    "\n",
    "### Objetivo:\n",
    "Comprender e implementar modelos de redes neuronales secuenciales y paralelas para la clasificación utilizando el conjunto de datos de Iris. Esta parte del PEC proporciona información sobre diferentes arquitecturas de redes neuronales y su aplicación en tareas de clasificación. La elección entre modelos secuenciales y paralelos depende de los requisitos específicos y la complejidad del conjunto de datos y la tarea.\n",
    "\n",
    "### Tools y Libraries:\n",
    "Python\n",
    "Colab o Jupyter Notebook (o cualquier Python IDE). Recomendación: utilizar Colab.\n",
    "Libraries: NumPy, Pandas, Scikit-learn, TensorFlow/Keras"
   ]
  },
  {
   "cell_type": "markdown",
   "metadata": {
    "id": "m1xTnXFxrfeV"
   },
   "source": [
    "#### En caso de NO utilizar Colab: Configurar un entorno virtual (opcional pero recomendado)\n",
    "\n",
    " Es una buena práctica utilizar un entorno virtual para sus proyectos de Python para evitar conflictos de dependencia. Puede crear un entorno virtual usando venv (integrado en Python) o conda (si está usando Anaconda).\n",
    "\n",
    "Using venv:\n",
    "\n",
    "1. **python -m venv myenv**\n",
    "\n",
    "Para activar el environment:\n",
    "\n",
    "En Windows: myenv\\Scripts\\activate\n",
    "En macOS y Linux: source myenv/bin/activate\n",
    "\n",
    "Utilizando conda:\n",
    "\n",
    "2. **conda create -n myenv python=3.8**\n",
    "\n",
    "3. **conda activate myenv**\n",
    "   \n",
    "#### Instalar TensorFlow\n",
    "Keras se incluye como parte de TensorFlow, por lo que solo necesita instalar TensorFlow. Correr:\n",
    "\n",
    "4. **pip install tensorflow**\n",
    "Este comando instala TensorFlow y Keras. Puede especificar una versión si es necesario (por ejemplo, tensorflow==2.4.0).\n"
   ]
  },
  {
   "cell_type": "markdown",
   "metadata": {
    "id": "dNQdtXParfeV"
   },
   "source": [
    "#### Verificación de la instalación\n",
    "Después de la instalación, puede verificar que todo es correcto si ejecuta un script simple de Keras/TensorFlow.\n",
    "\n",
    "Si ve el siguiente mensaje \"NOMBRE_DE_SU_ARCHIVO.ipynb no es de confianza\" en su terminal (si está trabajando en una Mac). Esto hace referencia a una característica de seguridad en Jupyter. Los notebooks de Jupyter pueden contener código ejecutable y, por razones de seguridad, cuando se abre un cuaderno desde una fuente que no es de confianza (como si se descarga de Internet o se recibe de otra persona), Jupyter lo marca como \"no confiable\". Esto significa que el código no se ejecutará automáticamente hasta que haya revisado el contenido y confíe en la fuente.\n",
    "\n",
    "Para confiar y ejecutar el notebook:\n",
    "\n",
    "1. Abra el cuadenotebook en Jupyter.\n",
    "2. Revise el código para asegurarse de que sea seguro y haga lo que espera.\n",
    "3. Si está seguro de que el portátil es seguro, puede marcarlo como confiable. Por lo general, esto se puede hacer a través de una opción de menú en Jupyter, a menudo en \"Archivo\" o un menú similar.\n",
    "\n",
    "Después de marcar el notebook como confiable, podrá ejecutar el código que contiene sin más advertencias. Recuerde, es importante confiar en los portátiles sólo cuando esté seguro de su seguridad y origen, para evitar ejecutar código potencialmente dañino."
   ]
  },
  {
   "cell_type": "markdown",
   "metadata": {
    "id": "WzP8z2hSrfeV"
   },
   "source": [
    "## 2.1. Entorno de configuración\n",
    "Primero, asegúrese de que todas las libraries necesarias estén instaladas. Puede instalarlos usando pip (instalador de paquetes de Python)."
   ]
  },
  {
   "cell_type": "code",
   "execution_count": 30,
   "metadata": {
    "colab": {
     "base_uri": "https://localhost:8080/"
    },
    "executionInfo": {
     "elapsed": 8880,
     "status": "ok",
     "timestamp": 1705122037216,
     "user": {
      "displayName": "Juan Lara Chups",
      "userId": "04383778811652746669"
     },
     "user_tz": -60
    },
    "id": "rYO-Stm_rfeV",
    "outputId": "ba15c736-127b-40ed-cdbf-d6ee8c57b32c"
   },
   "outputs": [
    {
     "name": "stdout",
     "output_type": "stream",
     "text": [
      "Requirement already satisfied: numpy in /usr/local/lib/python3.10/dist-packages (1.23.5)\n",
      "Requirement already satisfied: pandas in /usr/local/lib/python3.10/dist-packages (1.5.3)\n",
      "Requirement already satisfied: scikit-learn in /usr/local/lib/python3.10/dist-packages (1.2.2)\n",
      "Requirement already satisfied: tensorflow in /usr/local/lib/python3.10/dist-packages (2.15.0)\n",
      "Requirement already satisfied: keras in /usr/local/lib/python3.10/dist-packages (2.15.0)\n",
      "Requirement already satisfied: python-dateutil>=2.8.1 in /usr/local/lib/python3.10/dist-packages (from pandas) (2.8.2)\n",
      "Requirement already satisfied: pytz>=2020.1 in /usr/local/lib/python3.10/dist-packages (from pandas) (2023.3.post1)\n",
      "Requirement already satisfied: scipy>=1.3.2 in /usr/local/lib/python3.10/dist-packages (from scikit-learn) (1.11.4)\n",
      "Requirement already satisfied: joblib>=1.1.1 in /usr/local/lib/python3.10/dist-packages (from scikit-learn) (1.3.2)\n",
      "Requirement already satisfied: threadpoolctl>=2.0.0 in /usr/local/lib/python3.10/dist-packages (from scikit-learn) (3.2.0)\n",
      "Requirement already satisfied: absl-py>=1.0.0 in /usr/local/lib/python3.10/dist-packages (from tensorflow) (1.4.0)\n",
      "Requirement already satisfied: astunparse>=1.6.0 in /usr/local/lib/python3.10/dist-packages (from tensorflow) (1.6.3)\n",
      "Requirement already satisfied: flatbuffers>=23.5.26 in /usr/local/lib/python3.10/dist-packages (from tensorflow) (23.5.26)\n",
      "Requirement already satisfied: gast!=0.5.0,!=0.5.1,!=0.5.2,>=0.2.1 in /usr/local/lib/python3.10/dist-packages (from tensorflow) (0.5.4)\n",
      "Requirement already satisfied: google-pasta>=0.1.1 in /usr/local/lib/python3.10/dist-packages (from tensorflow) (0.2.0)\n",
      "Requirement already satisfied: h5py>=2.9.0 in /usr/local/lib/python3.10/dist-packages (from tensorflow) (3.9.0)\n",
      "Requirement already satisfied: libclang>=13.0.0 in /usr/local/lib/python3.10/dist-packages (from tensorflow) (16.0.6)\n",
      "Requirement already satisfied: ml-dtypes~=0.2.0 in /usr/local/lib/python3.10/dist-packages (from tensorflow) (0.2.0)\n",
      "Requirement already satisfied: opt-einsum>=2.3.2 in /usr/local/lib/python3.10/dist-packages (from tensorflow) (3.3.0)\n",
      "Requirement already satisfied: packaging in /usr/local/lib/python3.10/dist-packages (from tensorflow) (23.2)\n",
      "Requirement already satisfied: protobuf!=4.21.0,!=4.21.1,!=4.21.2,!=4.21.3,!=4.21.4,!=4.21.5,<5.0.0dev,>=3.20.3 in /usr/local/lib/python3.10/dist-packages (from tensorflow) (3.20.3)\n",
      "Requirement already satisfied: setuptools in /usr/local/lib/python3.10/dist-packages (from tensorflow) (67.7.2)\n",
      "Requirement already satisfied: six>=1.12.0 in /usr/local/lib/python3.10/dist-packages (from tensorflow) (1.16.0)\n",
      "Requirement already satisfied: termcolor>=1.1.0 in /usr/local/lib/python3.10/dist-packages (from tensorflow) (2.4.0)\n",
      "Requirement already satisfied: typing-extensions>=3.6.6 in /usr/local/lib/python3.10/dist-packages (from tensorflow) (4.5.0)\n",
      "Requirement already satisfied: wrapt<1.15,>=1.11.0 in /usr/local/lib/python3.10/dist-packages (from tensorflow) (1.14.1)\n",
      "Requirement already satisfied: tensorflow-io-gcs-filesystem>=0.23.1 in /usr/local/lib/python3.10/dist-packages (from tensorflow) (0.35.0)\n",
      "Requirement already satisfied: grpcio<2.0,>=1.24.3 in /usr/local/lib/python3.10/dist-packages (from tensorflow) (1.60.0)\n",
      "Requirement already satisfied: tensorboard<2.16,>=2.15 in /usr/local/lib/python3.10/dist-packages (from tensorflow) (2.15.1)\n",
      "Requirement already satisfied: tensorflow-estimator<2.16,>=2.15.0 in /usr/local/lib/python3.10/dist-packages (from tensorflow) (2.15.0)\n",
      "Requirement already satisfied: wheel<1.0,>=0.23.0 in /usr/local/lib/python3.10/dist-packages (from astunparse>=1.6.0->tensorflow) (0.42.0)\n",
      "Requirement already satisfied: google-auth<3,>=1.6.3 in /usr/local/lib/python3.10/dist-packages (from tensorboard<2.16,>=2.15->tensorflow) (2.17.3)\n",
      "Requirement already satisfied: google-auth-oauthlib<2,>=0.5 in /usr/local/lib/python3.10/dist-packages (from tensorboard<2.16,>=2.15->tensorflow) (1.2.0)\n",
      "Requirement already satisfied: markdown>=2.6.8 in /usr/local/lib/python3.10/dist-packages (from tensorboard<2.16,>=2.15->tensorflow) (3.5.1)\n",
      "Requirement already satisfied: requests<3,>=2.21.0 in /usr/local/lib/python3.10/dist-packages (from tensorboard<2.16,>=2.15->tensorflow) (2.31.0)\n",
      "Requirement already satisfied: tensorboard-data-server<0.8.0,>=0.7.0 in /usr/local/lib/python3.10/dist-packages (from tensorboard<2.16,>=2.15->tensorflow) (0.7.2)\n",
      "Requirement already satisfied: werkzeug>=1.0.1 in /usr/local/lib/python3.10/dist-packages (from tensorboard<2.16,>=2.15->tensorflow) (3.0.1)\n",
      "Requirement already satisfied: cachetools<6.0,>=2.0.0 in /usr/local/lib/python3.10/dist-packages (from google-auth<3,>=1.6.3->tensorboard<2.16,>=2.15->tensorflow) (5.3.2)\n",
      "Requirement already satisfied: pyasn1-modules>=0.2.1 in /usr/local/lib/python3.10/dist-packages (from google-auth<3,>=1.6.3->tensorboard<2.16,>=2.15->tensorflow) (0.3.0)\n",
      "Requirement already satisfied: rsa<5,>=3.1.4 in /usr/local/lib/python3.10/dist-packages (from google-auth<3,>=1.6.3->tensorboard<2.16,>=2.15->tensorflow) (4.9)\n",
      "Requirement already satisfied: requests-oauthlib>=0.7.0 in /usr/local/lib/python3.10/dist-packages (from google-auth-oauthlib<2,>=0.5->tensorboard<2.16,>=2.15->tensorflow) (1.3.1)\n",
      "Requirement already satisfied: charset-normalizer<4,>=2 in /usr/local/lib/python3.10/dist-packages (from requests<3,>=2.21.0->tensorboard<2.16,>=2.15->tensorflow) (3.3.2)\n",
      "Requirement already satisfied: idna<4,>=2.5 in /usr/local/lib/python3.10/dist-packages (from requests<3,>=2.21.0->tensorboard<2.16,>=2.15->tensorflow) (3.6)\n",
      "Requirement already satisfied: urllib3<3,>=1.21.1 in /usr/local/lib/python3.10/dist-packages (from requests<3,>=2.21.0->tensorboard<2.16,>=2.15->tensorflow) (2.0.7)\n",
      "Requirement already satisfied: certifi>=2017.4.17 in /usr/local/lib/python3.10/dist-packages (from requests<3,>=2.21.0->tensorboard<2.16,>=2.15->tensorflow) (2023.11.17)\n",
      "Requirement already satisfied: MarkupSafe>=2.1.1 in /usr/local/lib/python3.10/dist-packages (from werkzeug>=1.0.1->tensorboard<2.16,>=2.15->tensorflow) (2.1.3)\n",
      "Requirement already satisfied: pyasn1<0.6.0,>=0.4.6 in /usr/local/lib/python3.10/dist-packages (from pyasn1-modules>=0.2.1->google-auth<3,>=1.6.3->tensorboard<2.16,>=2.15->tensorflow) (0.5.1)\n",
      "Requirement already satisfied: oauthlib>=3.0.0 in /usr/local/lib/python3.10/dist-packages (from requests-oauthlib>=0.7.0->google-auth-oauthlib<2,>=0.5->tensorboard<2.16,>=2.15->tensorflow) (3.2.2)\n"
     ]
    }
   ],
   "source": [
    "!pip install numpy pandas scikit-learn tensorflow keras"
   ]
  },
  {
   "cell_type": "markdown",
   "metadata": {
    "id": "DRzyK5ntGULE"
   },
   "source": [
    "Después cargue las libraries:"
   ]
  },
  {
   "cell_type": "code",
   "execution_count": 38,
   "metadata": {
    "executionInfo": {
     "elapsed": 645,
     "status": "ok",
     "timestamp": 1705122493493,
     "user": {
      "displayName": "Juan Lara Chups",
      "userId": "04383778811652746669"
     },
     "user_tz": -60
    },
    "id": "V-Uuk-MHrfeV"
   },
   "outputs": [],
   "source": [
    "import numpy as np\n",
    "import pandas as pd\n",
    "from sklearn.model_selection import train_test_split\n",
    "from sklearn.preprocessing import StandardScaler, OneHotEncoder\n",
    "from sklearn.datasets import load_iris\n",
    "from keras.models import Model\n",
    "from keras.layers import Input, Dense, concatenate\n",
    "from tensorflow.keras.utils import to_categorical\n",
    "from tensorflow.keras.models import Sequential\n",
    "from tensorflow.keras.layers import Dense\n",
    "from tensorflow.keras.layers import Input, concatenate\n",
    "from tensorflow.keras.models import Model\n",
    "from tensorflow.keras.optimizers import Adam\n"
   ]
  },
  {
   "cell_type": "markdown",
   "metadata": {
    "id": "k9owNk5urfeV"
   },
   "source": [
    "## 2.2. Cargada del conjunto de datos\n",
    "El conjunto de datos Iris es un conjunto de datos clásico en el campo del aprendizaje automático y la estadística, que se utiliza a menudo con fines didácticos. Está ampliamente disponible y se puede acceder fácilmente en Python, particularmente a través de bibliotecas como Scikit-learn. Asegúrese que lo tiene instalado.\n",
    "\n",
    "      # Cargar conjunto de datos de Iris\n",
    "      iris = load_iris()\n",
    "      X = iris.data\n",
    "      y = iris.target\n",
    "    \n",
    " `X` debe contener las características o variables (medidas de las flores del iris) y `y` debe contener las etiquetas de destino (especies de las flores del iris).\n",
    "\n",
    "- **Data (`X`):** Esta es una matriz 2D donde cada fila representa una flor de iris y cada columna representa una característica específica de la flor. En el caso del conjunto de datos de Iris, estas características son la longitud del sépalo, el ancho del sépalo, la longitud del pétalo y el ancho del pétalo, todos medidos en centímetros.\n",
    "- **Objetivo (`y`):** Esta es una matriz 1D que contiene las etiquetas u objetivos. Para el conjunto de datos Iris, estas etiquetas corresponden a las especies de flor de iris. Hay tres especies: Setosa, Versicolor y Virginica, representadas como 0, 1 y 2, respectivamente.\n",
    "\n",
    "El objetivo es categorizar las flores según sus medidas físicas."
   ]
  },
  {
   "cell_type": "code",
   "execution_count": 96,
   "metadata": {
    "executionInfo": {
     "elapsed": 254,
     "status": "ok",
     "timestamp": 1705125672731,
     "user": {
      "displayName": "Juan Lara Chups",
      "userId": "04383778811652746669"
     },
     "user_tz": -60
    },
    "id": "zahT04ZnrfeV"
   },
   "outputs": [],
   "source": [
    "iris = load_iris()\n",
    "X = iris.data\n",
    "y = iris.target\n"
   ]
  },
  {
   "cell_type": "markdown",
   "metadata": {
    "id": "wdqmDO-UPH8l"
   },
   "source": [
    "### 2.2.1. Preprocesamiento de datos:\n",
    "\n",
    "Normalice los datos utilizando el StandardScaler.\n"
   ]
  },
  {
   "cell_type": "code",
   "execution_count": 97,
   "metadata": {
    "executionInfo": {
     "elapsed": 240,
     "status": "ok",
     "timestamp": 1705125673839,
     "user": {
      "displayName": "Juan Lara Chups",
      "userId": "04383778811652746669"
     },
     "user_tz": -60
    },
    "id": "ZmIn9l25Fa0h"
   },
   "outputs": [],
   "source": [
    "X_train, X_test, y_train, y_test = train_test_split(X, y, test_size=0.3, random_state=42)"
   ]
  },
  {
   "cell_type": "markdown",
   "metadata": {
    "id": "wkWE20-4O_JL"
   },
   "source": [
    "Codifique las etiquetas categóricas si es necesario."
   ]
  },
  {
   "cell_type": "code",
   "execution_count": 98,
   "metadata": {
    "executionInfo": {
     "elapsed": 3,
     "status": "ok",
     "timestamp": 1705125674570,
     "user": {
      "displayName": "Juan Lara Chups",
      "userId": "04383778811652746669"
     },
     "user_tz": -60
    },
    "id": "TKkQpiuDFp11"
   },
   "outputs": [],
   "source": [
    "scaler = StandardScaler()\n",
    "X_train_scaled = scaler.fit_transform(X_train)\n",
    "X_test_scaled = scaler.fit_transform(X_test)"
   ]
  },
  {
   "cell_type": "markdown",
   "metadata": {
    "id": "3wZXR0pDO70L"
   },
   "source": [
    "Realizar un split del 30% y utilizar un random_state de 42"
   ]
  },
  {
   "cell_type": "code",
   "execution_count": 99,
   "metadata": {
    "colab": {
     "base_uri": "https://localhost:8080/"
    },
    "executionInfo": {
     "elapsed": 3,
     "status": "ok",
     "timestamp": 1705125675663,
     "user": {
      "displayName": "Juan Lara Chups",
      "userId": "04383778811652746669"
     },
     "user_tz": -60
    },
    "id": "AEjvj5ulFzoY",
    "outputId": "3baa616c-8422-48b2-caf9-4875086be010"
   },
   "outputs": [
    {
     "name": "stderr",
     "output_type": "stream",
     "text": [
      "/usr/local/lib/python3.10/dist-packages/sklearn/preprocessing/_encoders.py:868: FutureWarning: `sparse` was renamed to `sparse_output` in version 1.2 and will be removed in 1.4. `sparse_output` is ignored unless you leave `sparse` to its default value.\n",
      "  warnings.warn(\n",
      "/usr/local/lib/python3.10/dist-packages/sklearn/preprocessing/_encoders.py:868: FutureWarning: `sparse` was renamed to `sparse_output` in version 1.2 and will be removed in 1.4. `sparse_output` is ignored unless you leave `sparse` to its default value.\n",
      "  warnings.warn(\n"
     ]
    }
   ],
   "source": [
    "encoder = OneHotEncoder(sparse=False)\n",
    "y_train_onehot = encoder.fit_transform(y_train.reshape(-1, 1))\n",
    "y_test_onehot = encoder.fit_transform(y_test.reshape(-1, 1))"
   ]
  },
  {
   "cell_type": "markdown",
   "metadata": {
    "id": "J9aMz4hxrfeV"
   },
   "source": [
    "## 2.3. Modelo de red neuronal secuencial (0.75 ptos)\n",
    "Cree y entrene un modelo de red neuronal secuencial.\n",
    "\n",
    "### Arquitectura modelo:\n",
    "\n",
    "Tiene que construir un modelo secuencial que llamará model_seq con tres capas: dos capas ocultas con 64 neuronas cada una y una capa de salida con 3 neuronas.\n",
    "La función de activación relu debe usarse en las capas ocultas y softmax debe usarse en la capa de salida que es apropiada para clasificación de clases múltiples como el conjunto de datos Iris.\n",
    "\n",
    "### Compilación de modelos:\n",
    "\n",
    "El modelo debe compilarse con el optimizador Adam. Adam es una opción popular para muchas tareas de redes neuronales, ya que combina las ventajas de otras dos extensiones del descenso de gradiente estocástico, específicamente el algoritmo de gradiente adaptativo (AdaGrad) y la propagación cuadrática media (RMSProp).\n",
    "categorical_crossentropy debería ser la función de pérdida, que es estándar para problemas de clasificación de clases múltiples.\n",
    "\n",
    "### Entrenando el modelo:\n",
    "\n",
    "El modelo se entrenará durante 50 épocas (epochs) con un tamaño de lote de 10 (batch_size).\n",
    "El parámetro detallado = 1 (verbose) en ajuste mostrará una barra de progreso durante el entrenamiento, lo que puede ser útil para monitorear el proceso de entrenamiento."
   ]
  },
  {
   "cell_type": "code",
   "execution_count": 100,
   "metadata": {
    "colab": {
     "base_uri": "https://localhost:8080/"
    },
    "executionInfo": {
     "elapsed": 3758,
     "status": "ok",
     "timestamp": 1705125682384,
     "user": {
      "displayName": "Juan Lara Chups",
      "userId": "04383778811652746669"
     },
     "user_tz": -60
    },
    "id": "Q1mN42pPF6Q2",
    "outputId": "482616ff-4971-4e1a-abdc-ed4d1b4dac24"
   },
   "outputs": [
    {
     "name": "stdout",
     "output_type": "stream",
     "text": [
      "Epoch 1/50\n",
      "11/11 [==============================] - 1s 2ms/step - loss: 0.9731 - accuracy: 0.6190\n",
      "Epoch 2/50\n",
      "11/11 [==============================] - 0s 3ms/step - loss: 0.7232 - accuracy: 0.7810\n",
      "Epoch 3/50\n",
      "11/11 [==============================] - 0s 3ms/step - loss: 0.5818 - accuracy: 0.8095\n",
      "Epoch 4/50\n",
      "11/11 [==============================] - 0s 3ms/step - loss: 0.4983 - accuracy: 0.8381\n",
      "Epoch 5/50\n",
      "11/11 [==============================] - 0s 3ms/step - loss: 0.4408 - accuracy: 0.8476\n",
      "Epoch 6/50\n",
      "11/11 [==============================] - 0s 3ms/step - loss: 0.3952 - accuracy: 0.8571\n",
      "Epoch 7/50\n",
      "11/11 [==============================] - 0s 3ms/step - loss: 0.3611 - accuracy: 0.8667\n",
      "Epoch 8/50\n",
      "11/11 [==============================] - 0s 3ms/step - loss: 0.3327 - accuracy: 0.8667\n",
      "Epoch 9/50\n",
      "11/11 [==============================] - 0s 3ms/step - loss: 0.3098 - accuracy: 0.8952\n",
      "Epoch 10/50\n",
      "11/11 [==============================] - 0s 3ms/step - loss: 0.2867 - accuracy: 0.9048\n",
      "Epoch 11/50\n",
      "11/11 [==============================] - 0s 3ms/step - loss: 0.2699 - accuracy: 0.9238\n",
      "Epoch 12/50\n",
      "11/11 [==============================] - 0s 3ms/step - loss: 0.2501 - accuracy: 0.9143\n",
      "Epoch 13/50\n",
      "11/11 [==============================] - 0s 3ms/step - loss: 0.2309 - accuracy: 0.9333\n",
      "Epoch 14/50\n",
      "11/11 [==============================] - 0s 4ms/step - loss: 0.2137 - accuracy: 0.9333\n",
      "Epoch 15/50\n",
      "11/11 [==============================] - 0s 3ms/step - loss: 0.2011 - accuracy: 0.9333\n",
      "Epoch 16/50\n",
      "11/11 [==============================] - 0s 3ms/step - loss: 0.1847 - accuracy: 0.9524\n",
      "Epoch 17/50\n",
      "11/11 [==============================] - 0s 3ms/step - loss: 0.1713 - accuracy: 0.9524\n",
      "Epoch 18/50\n",
      "11/11 [==============================] - 0s 3ms/step - loss: 0.1591 - accuracy: 0.9524\n",
      "Epoch 19/50\n",
      "11/11 [==============================] - 0s 3ms/step - loss: 0.1490 - accuracy: 0.9524\n",
      "Epoch 20/50\n",
      "11/11 [==============================] - 0s 3ms/step - loss: 0.1382 - accuracy: 0.9524\n",
      "Epoch 21/50\n",
      "11/11 [==============================] - 0s 3ms/step - loss: 0.1279 - accuracy: 0.9524\n",
      "Epoch 22/50\n",
      "11/11 [==============================] - 0s 3ms/step - loss: 0.1199 - accuracy: 0.9714\n",
      "Epoch 23/50\n",
      "11/11 [==============================] - 0s 3ms/step - loss: 0.1131 - accuracy: 0.9714\n",
      "Epoch 24/50\n",
      "11/11 [==============================] - 0s 3ms/step - loss: 0.1081 - accuracy: 0.9714\n",
      "Epoch 25/50\n",
      "11/11 [==============================] - 0s 3ms/step - loss: 0.0995 - accuracy: 0.9810\n",
      "Epoch 26/50\n",
      "11/11 [==============================] - 0s 3ms/step - loss: 0.0999 - accuracy: 0.9619\n",
      "Epoch 27/50\n",
      "11/11 [==============================] - 0s 3ms/step - loss: 0.1061 - accuracy: 0.9619\n",
      "Epoch 28/50\n",
      "11/11 [==============================] - 0s 3ms/step - loss: 0.0874 - accuracy: 0.9810\n",
      "Epoch 29/50\n",
      "11/11 [==============================] - 0s 3ms/step - loss: 0.0854 - accuracy: 0.9810\n",
      "Epoch 30/50\n",
      "11/11 [==============================] - 0s 3ms/step - loss: 0.0816 - accuracy: 0.9810\n",
      "Epoch 31/50\n",
      "11/11 [==============================] - 0s 3ms/step - loss: 0.0789 - accuracy: 0.9810\n",
      "Epoch 32/50\n",
      "11/11 [==============================] - 0s 3ms/step - loss: 0.0753 - accuracy: 0.9714\n",
      "Epoch 33/50\n",
      "11/11 [==============================] - 0s 3ms/step - loss: 0.0730 - accuracy: 0.9810\n",
      "Epoch 34/50\n",
      "11/11 [==============================] - 0s 3ms/step - loss: 0.0743 - accuracy: 0.9810\n",
      "Epoch 35/50\n",
      "11/11 [==============================] - 0s 3ms/step - loss: 0.0709 - accuracy: 0.9810\n",
      "Epoch 36/50\n",
      "11/11 [==============================] - 0s 3ms/step - loss: 0.0683 - accuracy: 0.9714\n",
      "Epoch 37/50\n",
      "11/11 [==============================] - 0s 4ms/step - loss: 0.0645 - accuracy: 0.9810\n",
      "Epoch 38/50\n",
      "11/11 [==============================] - 0s 4ms/step - loss: 0.0687 - accuracy: 0.9714\n",
      "Epoch 39/50\n",
      "11/11 [==============================] - 0s 4ms/step - loss: 0.0684 - accuracy: 0.9810\n",
      "Epoch 40/50\n",
      "11/11 [==============================] - 0s 4ms/step - loss: 0.0621 - accuracy: 0.9810\n",
      "Epoch 41/50\n",
      "11/11 [==============================] - 0s 4ms/step - loss: 0.0625 - accuracy: 0.9810\n",
      "Epoch 42/50\n",
      "11/11 [==============================] - 0s 4ms/step - loss: 0.0591 - accuracy: 0.9810\n",
      "Epoch 43/50\n",
      "11/11 [==============================] - 0s 4ms/step - loss: 0.0597 - accuracy: 0.9810\n",
      "Epoch 44/50\n",
      "11/11 [==============================] - 0s 4ms/step - loss: 0.0662 - accuracy: 0.9810\n",
      "Epoch 45/50\n",
      "11/11 [==============================] - 0s 5ms/step - loss: 0.0571 - accuracy: 0.9905\n",
      "Epoch 46/50\n",
      "11/11 [==============================] - 0s 4ms/step - loss: 0.0579 - accuracy: 0.9810\n",
      "Epoch 47/50\n",
      "11/11 [==============================] - 0s 4ms/step - loss: 0.0572 - accuracy: 0.9810\n",
      "Epoch 48/50\n",
      "11/11 [==============================] - 0s 4ms/step - loss: 0.0582 - accuracy: 0.9810\n",
      "Epoch 49/50\n",
      "11/11 [==============================] - 0s 5ms/step - loss: 0.0542 - accuracy: 0.9905\n",
      "Epoch 50/50\n",
      "11/11 [==============================] - 0s 4ms/step - loss: 0.0534 - accuracy: 0.9810\n"
     ]
    }
   ],
   "source": [
    "# Crear modelo secuencial\n",
    "model_seq = Sequential()\n",
    "\n",
    "# Agregar capas al modelo\n",
    "model_seq.add(Dense(64, activation='relu', input_dim=X_train_scaled.shape[1]))\n",
    "model_seq.add(Dense(64, activation='relu'))\n",
    "model_seq.add(Dense(3, activation='softmax'))\n",
    "\n",
    "# Compilar el modelo\n",
    "model_seq.compile(optimizer=Adam(), loss='categorical_crossentropy', metrics=['accuracy'])\n",
    "\n",
    "# Entrenar el modelo\n",
    "history_seq = model_seq.fit(X_train_scaled, y_train_onehot, epochs=50, batch_size=10, verbose=1)"
   ]
  },
  {
   "cell_type": "markdown",
   "metadata": {
    "id": "zrEfI9WprfeV"
   },
   "source": [
    "## 2.4. Modelo de red neuronal paralela (0.75 ptos)\n",
    "Cree y entrene un modelo de red neuronal paralela al que llamará model_par.\n",
    "\n",
    "En este modelo, debe definir dos rutas de entrada separadas que eventualmente se fusionarán antes de conducir a la capa de salida. Este tipo de arquitectura puede resultar útil en casos en los que su modelo necesita aprender de dos conjuntos diferentes de características o representaciones de datos.\n",
    "\n",
    "### Defina dos rutas de entrada:\n",
    "\n",
    "input_a y input_b se definirán como dos entradas separadas. Ambos esperan datos de forma (X_train.shape[1],), que es la cantidad de funciones en su conjunto de datos.\n",
    "\n",
    "### Capas paralelas:\n",
    "\n",
    "path_a y path_b representan dos capas (o rutas) paralelas en la red. Cada uno procesará su entrada de forma independiente.\n",
    "Ambas rutas deben tener una capa densa con 64 neuronas y utilizar la función de activación ReLU.\n",
    "\n",
    "### Concatenación de rutas:\n",
    "\n",
    "La capa de concatenación fusionará las salidas de path_a y path_b. Esto permitirá que el modelo aprenda de ambas vías simultáneamente.\n",
    "\n",
    "### Capa de salida:\n",
    "\n",
    "La capa de salida debe ser una capa densa con 3 neuronas y una función de activación softmax, adecuada para clasificación de clases múltiples.\n",
    "\n",
    "### Construyendo y compilando el modelo:\n",
    "\n",
    "El modelo (model_par) debe definirse con dos entradas y una salida.\n",
    "Se compilará con el optimizador Adam y la función de pérdida categorical_crossentropy, que son estándar para tareas de clasificación.\n",
    "\n",
    "### Entrenando el modelo:\n",
    "\n",
    "El modelo debe entrenarse en X_train para ambas entradas ([X_train, X_train]). Esto implicará que está alimentando los mismos datos a través de ambas rutas.\n",
    "Las etiquetas de destino (y_train) deben usarse para el entrenamiento.\n",
    "El modelo se entrenará durante 50 épocas (epochs) con un tamaño de lote de 10 (batch_size).\n",
    "El parámetro detallado = 1 (verbose) en ajuste mostrará una barra de progreso durante el entrenamiento, lo que puede ser útil para monitorear el proceso de entrenamiento."
   ]
  },
  {
   "cell_type": "code",
   "execution_count": 101,
   "metadata": {
    "colab": {
     "base_uri": "https://localhost:8080/"
    },
    "executionInfo": {
     "elapsed": 6162,
     "status": "ok",
     "timestamp": 1705125688543,
     "user": {
      "displayName": "Juan Lara Chups",
      "userId": "04383778811652746669"
     },
     "user_tz": -60
    },
    "id": "6V605NDcGADn",
    "outputId": "36021de9-6053-46a7-9c19-132d06a12e10"
   },
   "outputs": [
    {
     "name": "stdout",
     "output_type": "stream",
     "text": [
      "Epoch 1/50\n",
      "11/11 [==============================] - 3s 4ms/step - loss: 1.1941 - accuracy: 0.3524\n",
      "Epoch 2/50\n",
      "11/11 [==============================] - 0s 3ms/step - loss: 0.9265 - accuracy: 0.5905\n",
      "Epoch 3/50\n",
      "11/11 [==============================] - 0s 3ms/step - loss: 0.7293 - accuracy: 0.8095\n",
      "Epoch 4/50\n",
      "11/11 [==============================] - 0s 3ms/step - loss: 0.6097 - accuracy: 0.8190\n",
      "Epoch 5/50\n",
      "11/11 [==============================] - 0s 3ms/step - loss: 0.5283 - accuracy: 0.8286\n",
      "Epoch 6/50\n",
      "11/11 [==============================] - 0s 3ms/step - loss: 0.4748 - accuracy: 0.8286\n",
      "Epoch 7/50\n",
      "11/11 [==============================] - 0s 3ms/step - loss: 0.4366 - accuracy: 0.8476\n",
      "Epoch 8/50\n",
      "11/11 [==============================] - 0s 3ms/step - loss: 0.4069 - accuracy: 0.8571\n",
      "Epoch 9/50\n",
      "11/11 [==============================] - 0s 3ms/step - loss: 0.3826 - accuracy: 0.8571\n",
      "Epoch 10/50\n",
      "11/11 [==============================] - 0s 3ms/step - loss: 0.3630 - accuracy: 0.8667\n",
      "Epoch 11/50\n",
      "11/11 [==============================] - 0s 3ms/step - loss: 0.3453 - accuracy: 0.8667\n",
      "Epoch 12/50\n",
      "11/11 [==============================] - 0s 3ms/step - loss: 0.3313 - accuracy: 0.8762\n",
      "Epoch 13/50\n",
      "11/11 [==============================] - 0s 3ms/step - loss: 0.3174 - accuracy: 0.8762\n",
      "Epoch 14/50\n",
      "11/11 [==============================] - 0s 3ms/step - loss: 0.3036 - accuracy: 0.8857\n",
      "Epoch 15/50\n",
      "11/11 [==============================] - 0s 3ms/step - loss: 0.2932 - accuracy: 0.9238\n",
      "Epoch 16/50\n",
      "11/11 [==============================] - 0s 3ms/step - loss: 0.2815 - accuracy: 0.9143\n",
      "Epoch 17/50\n",
      "11/11 [==============================] - 0s 3ms/step - loss: 0.2734 - accuracy: 0.9143\n",
      "Epoch 18/50\n",
      "11/11 [==============================] - 0s 4ms/step - loss: 0.2622 - accuracy: 0.9333\n",
      "Epoch 19/50\n",
      "11/11 [==============================] - 0s 3ms/step - loss: 0.2526 - accuracy: 0.9429\n",
      "Epoch 20/50\n",
      "11/11 [==============================] - 0s 3ms/step - loss: 0.2429 - accuracy: 0.9429\n",
      "Epoch 21/50\n",
      "11/11 [==============================] - 0s 3ms/step - loss: 0.2341 - accuracy: 0.9429\n",
      "Epoch 22/50\n",
      "11/11 [==============================] - 0s 3ms/step - loss: 0.2260 - accuracy: 0.9429\n",
      "Epoch 23/50\n",
      "11/11 [==============================] - 0s 3ms/step - loss: 0.2189 - accuracy: 0.9429\n",
      "Epoch 24/50\n",
      "11/11 [==============================] - 0s 3ms/step - loss: 0.2110 - accuracy: 0.9524\n",
      "Epoch 25/50\n",
      "11/11 [==============================] - 0s 3ms/step - loss: 0.2032 - accuracy: 0.9524\n",
      "Epoch 26/50\n",
      "11/11 [==============================] - 0s 3ms/step - loss: 0.1969 - accuracy: 0.9524\n",
      "Epoch 27/50\n",
      "11/11 [==============================] - 0s 3ms/step - loss: 0.1918 - accuracy: 0.9524\n",
      "Epoch 28/50\n",
      "11/11 [==============================] - 0s 3ms/step - loss: 0.1844 - accuracy: 0.9524\n",
      "Epoch 29/50\n",
      "11/11 [==============================] - 0s 3ms/step - loss: 0.1791 - accuracy: 0.9524\n",
      "Epoch 30/50\n",
      "11/11 [==============================] - 0s 3ms/step - loss: 0.1728 - accuracy: 0.9524\n",
      "Epoch 31/50\n",
      "11/11 [==============================] - 0s 3ms/step - loss: 0.1678 - accuracy: 0.9524\n",
      "Epoch 32/50\n",
      "11/11 [==============================] - 0s 3ms/step - loss: 0.1631 - accuracy: 0.9524\n",
      "Epoch 33/50\n",
      "11/11 [==============================] - 0s 3ms/step - loss: 0.1577 - accuracy: 0.9524\n",
      "Epoch 34/50\n",
      "11/11 [==============================] - 0s 3ms/step - loss: 0.1529 - accuracy: 0.9524\n",
      "Epoch 35/50\n",
      "11/11 [==============================] - 0s 3ms/step - loss: 0.1492 - accuracy: 0.9619\n",
      "Epoch 36/50\n",
      "11/11 [==============================] - 0s 3ms/step - loss: 0.1453 - accuracy: 0.9619\n",
      "Epoch 37/50\n",
      "11/11 [==============================] - 0s 2ms/step - loss: 0.1405 - accuracy: 0.9619\n",
      "Epoch 38/50\n",
      "11/11 [==============================] - 0s 3ms/step - loss: 0.1376 - accuracy: 0.9619\n",
      "Epoch 39/50\n",
      "11/11 [==============================] - 0s 3ms/step - loss: 0.1327 - accuracy: 0.9524\n",
      "Epoch 40/50\n",
      "11/11 [==============================] - 0s 3ms/step - loss: 0.1303 - accuracy: 0.9714\n",
      "Epoch 41/50\n",
      "11/11 [==============================] - 0s 3ms/step - loss: 0.1271 - accuracy: 0.9714\n",
      "Epoch 42/50\n",
      "11/11 [==============================] - 0s 3ms/step - loss: 0.1234 - accuracy: 0.9619\n",
      "Epoch 43/50\n",
      "11/11 [==============================] - 0s 3ms/step - loss: 0.1218 - accuracy: 0.9619\n",
      "Epoch 44/50\n",
      "11/11 [==============================] - 0s 4ms/step - loss: 0.1183 - accuracy: 0.9619\n",
      "Epoch 45/50\n",
      "11/11 [==============================] - 0s 3ms/step - loss: 0.1157 - accuracy: 0.9619\n",
      "Epoch 46/50\n",
      "11/11 [==============================] - 0s 3ms/step - loss: 0.1138 - accuracy: 0.9714\n",
      "Epoch 47/50\n",
      "11/11 [==============================] - 0s 3ms/step - loss: 0.1119 - accuracy: 0.9714\n",
      "Epoch 48/50\n",
      "11/11 [==============================] - 0s 3ms/step - loss: 0.1092 - accuracy: 0.9619\n",
      "Epoch 49/50\n",
      "11/11 [==============================] - 0s 3ms/step - loss: 0.1075 - accuracy: 0.9714\n",
      "Epoch 50/50\n",
      "11/11 [==============================] - 0s 3ms/step - loss: 0.1053 - accuracy: 0.9714\n"
     ]
    }
   ],
   "source": [
    "from keras.layers import Input, Dense, concatenate\n",
    "from keras.models import Model\n",
    "from keras.optimizers import Adam\n",
    "\n",
    "# Definir dos rutas de entrada\n",
    "input_a = Input(shape=(X_train_scaled.shape[1],))\n",
    "input_b = Input(shape=(X_train_scaled.shape[1],))\n",
    "\n",
    "# Capas paralelas\n",
    "path_a = Dense(64, activation='relu')(input_a)\n",
    "path_b = Dense(64, activation='relu')(input_b)\n",
    "\n",
    "# Concatenación de rutas\n",
    "concatenated = concatenate([path_a, path_b])\n",
    "\n",
    "# Capa de salida\n",
    "output = Dense(3, activation='softmax')(concatenated)\n",
    "\n",
    "# Construir el modelo\n",
    "model_par = Model(inputs=[input_a, input_b], outputs=output)\n",
    "\n",
    "# Compilar el modelo\n",
    "model_par.compile(optimizer=Adam(), loss='categorical_crossentropy', metrics=['accuracy'])\n",
    "\n",
    "# Entrenar el modelo\n",
    "history_par = model_par.fit([X_train_scaled, X_train_scaled], y_train_onehot, epochs=50, batch_size=10, verbose=1)\n"
   ]
  },
  {
   "cell_type": "markdown",
   "metadata": {
    "id": "viZ2W1pVrfeW"
   },
   "source": [
    "## 2.5. Evaluación (0.5 ptos)\n",
    "Evalúe (evaluate) ambos modelos en el conjunto de datos de prueba e imprima en pantalla la exactitud (accuracy) para cada uno de ellos."
   ]
  },
  {
   "cell_type": "code",
   "execution_count": 102,
   "metadata": {
    "colab": {
     "base_uri": "https://localhost:8080/"
    },
    "executionInfo": {
     "elapsed": 611,
     "status": "ok",
     "timestamp": 1705125689140,
     "user": {
      "displayName": "Juan Lara Chups",
      "userId": "04383778811652746669"
     },
     "user_tz": -60
    },
    "id": "QxgezA6vGJTM",
    "outputId": "9ce2d03b-07bf-45dc-e10c-844497e4ea88"
   },
   "outputs": [
    {
     "name": "stdout",
     "output_type": "stream",
     "text": [
      "Modelo Secuencial - Exactitud: 95.56%\n",
      "Modelo Paralelo - Exactitud: 93.33%\n"
     ]
    }
   ],
   "source": [
    "# Evaluar el modelo secuencial en el conjunto de prueba\n",
    "loss_seq, accuracy_seq = model_seq.evaluate(X_test_scaled, y_test_onehot, verbose=0)\n",
    "print(f'Modelo Secuencial - Exactitud: {accuracy_seq * 100:.2f}%')\n",
    "\n",
    "# Evaluar el modelo paralelo en el conjunto de prueba\n",
    "loss_par, accuracy_par = model_par.evaluate([X_test_scaled, X_test_scaled], y_test_onehot, verbose=0)\n",
    "print(f'Modelo Paralelo - Exactitud: {accuracy_par * 100:.2f}%')\n"
   ]
  },
  {
   "cell_type": "markdown",
   "metadata": {
    "id": "eafJY3JCrfeW"
   },
   "source": [
    "## 2.6. Análisis (0.5 ptos)\n",
    "\n",
    "Hay varias formas de presentar los resultados de la evaluación de los modelos, especialmente para tareas de clasificación. Dos métodos comúnmente utilizados son la matriz de confusión y las curvas de característica operativa del receptor (ROC). Estos métodos nos brindan una mejor comprensión del rendimiento del modelo más allá de la precisión.\n",
    "\n",
    "Matriz de confusión: una matriz de confusión es una tabla que se utiliza a menudo para describir el rendimiento de un modelo de clasificación en un conjunto de datos de prueba. Ayuda a visualizar el rendimiento de un algoritmo.\n",
    "\n",
    "Curva ROC y AUC. La curva ROC es una representación gráfica de la capacidad de diagnóstico de un sistema clasificador binario. Para la clasificación de clases múltiples, las curvas ROC se pueden extender para trazar las curvas ROC micropromedio y macropromedio.\n",
    "\n",
    "Compare el rendimiento de los modelos secuencial y paralelo.\n",
    "Analice las fortalezas y debilidades de cada enfoque."
   ]
  },
  {
   "cell_type": "code",
   "execution_count": 103,
   "metadata": {
    "colab": {
     "base_uri": "https://localhost:8080/",
     "height": 1000
    },
    "executionInfo": {
     "elapsed": 3619,
     "status": "ok",
     "timestamp": 1705125898329,
     "user": {
      "displayName": "Juan Lara Chups",
      "userId": "04383778811652746669"
     },
     "user_tz": -60
    },
    "id": "vY1GWPNCGOJZ",
    "outputId": "f2b53e1e-8b64-4554-8140-1e40aba527a6"
   },
   "outputs": [
    {
     "name": "stdout",
     "output_type": "stream",
     "text": [
      "2/2 [==============================] - 0s 9ms/step\n"
     ]
    },
    {
     "name": "stderr",
     "output_type": "stream",
     "text": [
      "WARNING:tensorflow:5 out of the last 25 calls to <function Model.make_predict_function.<locals>.predict_function at 0x7f4969f044c0> triggered tf.function retracing. Tracing is expensive and the excessive number of tracings could be due to (1) creating @tf.function repeatedly in a loop, (2) passing tensors with different shapes, (3) passing Python objects instead of tensors. For (1), please define your @tf.function outside of the loop. For (2), @tf.function has reduce_retracing=True option that can avoid unnecessary retracing. For (3), please refer to https://www.tensorflow.org/guide/function#controlling_retracing and https://www.tensorflow.org/api_docs/python/tf/function for  more details.\n"
     ]
    },
    {
     "name": "stdout",
     "output_type": "stream",
     "text": [
      "2/2 [==============================] - 0s 6ms/step\n"
     ]
    },
    {
     "data": {
      "image/png": "[encoded data removed]",
      "text/plain": [
       "<Figure size 640x480 with 2 Axes>"
      ]
     },
     "metadata": {},
     "output_type": "display_data"
    },
    {
     "data": {
      "image/png": "[encoded data removed]",
      "text/plain": [
       "<Figure size 640x480 with 2 Axes>"
      ]
     },
     "metadata": {},
     "output_type": "display_data"
    },
    {
     "name": "stderr",
     "output_type": "stream",
     "text": [
      "<ipython-input-103-a8ecb2258a45>:58: UserWarning: color is redundantly defined by the 'color' keyword argument and the fmt string \"k--\" (-> color='k'). The keyword argument will take precedence.\n",
      "  plt.plot([0, 1], [0, 1], 'k--', color='navy', lw=2)\n"
     ]
    },
    {
     "data": {
      "image/png": "[encoded data removed]",
      "text/plain": [
       "<Figure size 800x800 with 1 Axes>"
      ]
     },
     "metadata": {},
     "output_type": "display_data"
    },
    {
     "name": "stderr",
     "output_type": "stream",
     "text": [
      "<ipython-input-103-a8ecb2258a45>:58: UserWarning: color is redundantly defined by the 'color' keyword argument and the fmt string \"k--\" (-> color='k'). The keyword argument will take precedence.\n",
      "  plt.plot([0, 1], [0, 1], 'k--', color='navy', lw=2)\n"
     ]
    },
    {
     "data": {
      "image/png": "[encoded data removed]",
      "text/plain": [
       "<Figure size 800x800 with 1 Axes>"
      ]
     },
     "metadata": {},
     "output_type": "display_data"
    }
   ],
   "source": [
    "from sklearn.metrics import confusion_matrix, roc_curve, auc\n",
    "import matplotlib.pyplot as plt\n",
    "\n",
    "y_pred_seq = model_seq.predict(X_test_scaled)\n",
    "y_pred_par = model_par.predict([X_test_scaled, X_test_scaled])\n",
    "\n",
    "y_pred_seq_labels = np.argmax(y_pred_seq, axis=1)\n",
    "y_pred_par_labels = np.argmax(y_pred_par, axis=1)\n",
    "\n",
    "def plot_confusion_matrix(y_true, y_pred_labels, title):\n",
    "    cm = confusion_matrix(y_true, y_pred_labels)\n",
    "    plt.imshow(cm, interpolation='nearest', cmap=plt.cm.Blues)\n",
    "    plt.title(title)\n",
    "    plt.colorbar()\n",
    "\n",
    "    classes = [0, 1, 2]\n",
    "    tick_marks = classes\n",
    "    plt.xticks(tick_marks, classes)\n",
    "    plt.yticks(tick_marks, classes)\n",
    "\n",
    "    plt.xlabel('Predicciones')\n",
    "    plt.ylabel('Etiquetas reales')\n",
    "    plt.show()\n",
    "\n",
    "def plot_roc_curve(y_true, y_pred_prob, title):\n",
    "    n_classes = y_true.shape[1]\n",
    "\n",
    "    fpr = dict()\n",
    "    tpr = dict()\n",
    "    roc_auc = dict()\n",
    "\n",
    "    for i in range(n_classes):\n",
    "        fpr[i], tpr[i], _ = roc_curve(y_true[:, i], y_pred_prob[:, i])\n",
    "        roc_auc[i] = auc(fpr[i], tpr[i])\n",
    "\n",
    "    fpr[\"macro\"], tpr[\"macro\"], _ = roc_curve(y_true.ravel(), y_pred_prob.ravel())\n",
    "    roc_auc[\"macro\"] = auc(fpr[\"macro\"], tpr[\"macro\"])\n",
    "\n",
    "\n",
    "    fpr[\"micro\"], tpr[\"micro\"], _ = roc_curve(y_true.ravel(), y_pred_prob.ravel())\n",
    "    roc_auc[\"micro\"] = auc(fpr[\"micro\"], tpr[\"micro\"])\n",
    "\n",
    "    plt.figure(figsize=(8, 8))\n",
    "    plt.plot(fpr[\"micro\"], tpr[\"micro\"],\n",
    "             label=f'Micro-Promedio ROC (AUC = {roc_auc[\"micro\"]:.2f})',\n",
    "             color='deeppink', linestyle=':')\n",
    "\n",
    "    for i in range(n_classes):\n",
    "        plt.plot(fpr[i], tpr[i], label=f'Clase {i} (AUC = {roc_auc[i]:.2f})')\n",
    "\n",
    "    plt.plot([0, 1], [0, 1], 'k--', color='navy', lw=2)\n",
    "    plt.xlim([0.0, 1.0])\n",
    "    plt.ylim([0.0, 1.05])\n",
    "    plt.xlabel('Tasa de Falsos Positivos')\n",
    "    plt.ylabel('Tasa de Verdaderos Positivos')\n",
    "    plt.title(title)\n",
    "    plt.legend(loc=\"lower right\")\n",
    "    plt.show()\n",
    "\n",
    "plot_confusion_matrix(y_test, y_pred_seq_labels, 'Matriz de Confusión - Modelo Secuencial')\n",
    "plot_confusion_matrix(y_test, y_pred_par_labels, 'Matriz de Confusión - Modelo Paralelo')\n",
    "\n",
    "plot_roc_curve(y_test_onehot, y_pred_seq, 'Curvas ROC y AUC - Modelo Secuencial')\n",
    "plot_roc_curve(y_test_onehot, y_pred_par, 'Curvas ROC y AUC - Modelo Paralelo')\n"
   ]
  }
 ],
 "metadata": {
  "celltoolbar": "Raw Cell Format",
  "colab": {
   "provenance": []
  },
  "kernelspec": {
   "display_name": "Python 3 (ipykernel)",
   "language": "python",
   "name": "python3"
  },
  "language_info": {
   "codemirror_mode": {
    "name": "ipython",
    "version": 3
   },
   "file_extension": ".py",
   "mimetype": "text/x-python",
   "name": "python",
   "nbconvert_exporter": "python",
   "pygments_lexer": "ipython3",
   "version": "3.11.5"
  }
 },
 "nbformat": 4,
 "nbformat_minor": 1
}
